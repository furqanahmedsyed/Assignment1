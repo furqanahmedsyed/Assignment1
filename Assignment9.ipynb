{
  "nbformat": 4,
  "nbformat_minor": 0,
  "metadata": {
    "colab": {
      "provenance": []
    },
    "kernelspec": {
      "name": "python3",
      "display_name": "Python 3"
    },
    "language_info": {
      "name": "python"
    }
  },
  "cells": [
    {
      "cell_type": "code",
      "execution_count": null,
      "metadata": {
        "id": "-9Rc8yaT-QTa"
      },
      "outputs": [],
      "source": []
    },
    {
      "cell_type": "markdown",
      "source": [
        "1. What is a lambda function in Python, and how does it differ from a regular function?\n",
        "Answer:- In Python, a lambda function is a small, anonymous function defined using the lambda keyword. Lambda functions are often used when you need a simple function for a short period and don't want to formally define a function using the def keyword.\n",
        "The main differences between lambda functions and regular functions defined with def are:\n",
        "Syntax: Lambda functions are defined using the lambda keyword, while regular functions are defined using the def keyword.\n",
        "Name: Lambda functions are anonymous; they don't have a name like regular functions defined with def. However, they can be assigned to variables or passed around as arguments to other functions.\n",
        "Arguments: Lambda functions can take any number of arguments, but they can only have one expression. Regular functions can have multiple expressions and statements inside their body.\n",
        "Return: Lambda functions automatically return the value of the expression, while regular functions require an explicit return statement to return a value.\n",
        "\n",
        "\n",
        "2. Can a lambda function in Python have multiple arguments? If yes, how can you define and use them?\n",
        "Ans:-\n",
        "Yes, lambda functions in Python can have multiple arguments. The syntax for defining a lambda function with multiple arguments is straightforward: you simply list the arguments separated by commas, followed by a colon, and then the expression.\n"
      ],
      "metadata": {
        "id": "3Ro7eQPj-eTH"
      }
    },
    {
      "cell_type": "code",
      "source": [
        "multiply = lambda x, y: x * y\n",
        "print(multiply(3, 4))  # Output: 12\n"
      ],
      "metadata": {
        "colab": {
          "base_uri": "https://localhost:8080/"
        },
        "id": "jHkH-SO1-yWV",
        "outputId": "02f0eef4-8ac5-443a-ca40-329d13d11222"
      },
      "execution_count": 1,
      "outputs": [
        {
          "output_type": "stream",
          "name": "stdout",
          "text": [
            "12\n"
          ]
        }
      ]
    },
    {
      "cell_type": "markdown",
      "source": [
        "3. How are lambda functions typically used in Python? Provide an example use case.\n",
        "Ans:-\n",
        "Lambda functions in Python are typically used in situations where a short, anonymous function is needed for a brief operation, especially when passing functions as arguments to higher-order functions like map(), filter(), sorted(), or as simple callbacks."
      ],
      "metadata": {
        "id": "AzUolwWY-zMO"
      }
    },
    {
      "cell_type": "code",
      "source": [
        "# List of tuples\n",
        "students = [\n",
        "    ('John', 25),\n",
        "    ('Jane', 20),\n",
        "    ('Dave', 30),\n",
        "    ('Amy', 22)\n",
        "]\n",
        "\n",
        "# Sort the list of tuples based on the second element of each tuple (age)\n",
        "sorted_students = sorted(students, key=lambda x: x[1])\n",
        "print(sorted_students)\n"
      ],
      "metadata": {
        "colab": {
          "base_uri": "https://localhost:8080/"
        },
        "id": "0ZbMKTgT-68J",
        "outputId": "2c7d0bff-a610-48d0-a811-2da8a70c2984"
      },
      "execution_count": 2,
      "outputs": [
        {
          "output_type": "stream",
          "name": "stdout",
          "text": [
            "[('Jane', 20), ('Amy', 22), ('John', 25), ('Dave', 30)]\n"
          ]
        }
      ]
    },
    {
      "cell_type": "code",
      "source": [],
      "metadata": {
        "id": "mMwH5Wip-92R"
      },
      "execution_count": null,
      "outputs": []
    },
    {
      "cell_type": "markdown",
      "source": [
        "4. What are the advantages and limitations of lambda functions compared to regular functions in\n",
        "Python?\n",
        "Ans:- Advantages of Lambda Functions:\n",
        "Conciseness: Lambda functions allow you to write short, one-line functions without the need for a formal def statement, making your code more compact and readable, especially for simple operations.\n",
        "\n",
        "Anonymous Functions: Lambda functions are anonymous, meaning they don't need a name assigned to them. This is useful when you need a function for a short-lived task or when a function is used only once.\n",
        "Limitations of Lambda Functions:\n",
        "Limited Functionality: Lambda functions are restricted to a single expression, which means they are not suitable for more complex logic or operations that require multiple statements.\n",
        "\n",
        "Readability: While lambda functions can make code more concise, they may also reduce readability, especially for complex operations. Using a regular named function with a descriptive name can often make the code clearer.\n",
        "\n",
        "Debugging: Since lambda functions are anonymous, debugging them can be more challenging compared to regular functions. Error messages might not provide meaningful information about where the lambda function was defined.\n",
        "\n",
        "\n",
        "5. Are lambda functions in Python able to access variables defined outside of their own scope?\n",
        "Explain with an example.\n",
        "Ans:- Yes, lambda functions in Python can access variables defined outside of their own scope, but the variables must be in the enclosing scope where the lambda function is defined. This behavior is known as lexical scoping or closure."
      ],
      "metadata": {
        "id": "HqFDHh6W--tu"
      }
    },
    {
      "cell_type": "markdown",
      "source": [
        "\n"
      ],
      "metadata": {
        "id": "PfkerRxO_UDI"
      }
    },
    {
      "cell_type": "code",
      "source": [
        "def outer_function():\n",
        "    x = 10\n",
        "    # Define a lambda function inside the outer_function\n",
        "    square = lambda n: n ** 2 + x\n",
        "    return square\n",
        "\n",
        "# Call outer_function to get the lambda function\n",
        "square_function = outer_function()\n",
        "\n",
        "# Call the lambda function with an argument\n",
        "result = square_function(5)\n",
        "print(result)  # Output: 35 (5 ** 2 + 10)"
      ],
      "metadata": {
        "colab": {
          "base_uri": "https://localhost:8080/"
        },
        "id": "OLZv0mEV_apl",
        "outputId": "94ee1cd9-2f00-40c1-e4d7-f02110a2808d"
      },
      "execution_count": 5,
      "outputs": [
        {
          "output_type": "stream",
          "name": "stdout",
          "text": [
            "35\n"
          ]
        }
      ]
    },
    {
      "cell_type": "markdown",
      "source": [
        "6. Write a lambda function to calculate the square of a given number.\n",
        "Ans:-"
      ],
      "metadata": {
        "id": "E_x69rxf_V00"
      }
    },
    {
      "cell_type": "code",
      "source": [
        "square = lambda x: x ** 2\n",
        "result = square(5)\n",
        "print(result)  # Output: 25\n"
      ],
      "metadata": {
        "colab": {
          "base_uri": "https://localhost:8080/"
        },
        "id": "hIJo3IOo_ih_",
        "outputId": "10521af2-74bd-494c-dbe8-99c7286a000a"
      },
      "execution_count": 4,
      "outputs": [
        {
          "output_type": "stream",
          "name": "stdout",
          "text": [
            "25\n"
          ]
        }
      ]
    },
    {
      "cell_type": "markdown",
      "source": [
        "7. Create a lambda function to find the maximum value in a list of integers.\n",
        "Ans:-"
      ],
      "metadata": {
        "id": "LiJ1Ftv6_mys"
      }
    },
    {
      "cell_type": "code",
      "source": [
        "find_max = lambda lst: max(lst)\n",
        "numbers = [10, 5, 8, 20, 15]\n",
        "max_value = find_max(numbers)\n",
        "print(max_value)  # Output: 20\n"
      ],
      "metadata": {
        "colab": {
          "base_uri": "https://localhost:8080/"
        },
        "id": "8kMHdNn-_uFt",
        "outputId": "5760c9a8-82ee-419d-db5e-84e0b89ac134"
      },
      "execution_count": 6,
      "outputs": [
        {
          "output_type": "stream",
          "name": "stdout",
          "text": [
            "20\n"
          ]
        }
      ]
    },
    {
      "cell_type": "markdown",
      "source": [
        "8. Implement a lambda function to filter out all the even numbers from a list of integers.\n",
        "Ans:-"
      ],
      "metadata": {
        "id": "lBia6YG0_wJ6"
      }
    },
    {
      "cell_type": "code",
      "source": [
        "numbers = [1, 2, 3, 4, 5, 6, 7, 8, 9, 10]\n",
        "\n",
        "# Filter out even numbers using a lambda function\n",
        "even_numbers = list(filter(lambda x: x % 2 == 0, numbers))\n",
        "\n",
        "print(even_numbers)  # Output: [2, 4, 6, 8, 10]\n"
      ],
      "metadata": {
        "colab": {
          "base_uri": "https://localhost:8080/"
        },
        "id": "0mvT-KS0_9GN",
        "outputId": "a3c361c8-a606-448a-c964-b5e0134bcf52"
      },
      "execution_count": 7,
      "outputs": [
        {
          "output_type": "stream",
          "name": "stdout",
          "text": [
            "[2, 4, 6, 8, 10]\n"
          ]
        }
      ]
    },
    {
      "cell_type": "code",
      "source": [],
      "metadata": {
        "id": "BPOk0lRg_kR-"
      },
      "execution_count": null,
      "outputs": []
    },
    {
      "cell_type": "markdown",
      "source": [
        "9. Write a lambda function to sort a list of strings in ascending order based on the length of each\n",
        "string.\n",
        "Ans:-"
      ],
      "metadata": {
        "id": "ZRMvmllJ_-eW"
      }
    },
    {
      "cell_type": "code",
      "source": [
        "strings = [\"apple\", \"banana\", \"kiwi\", \"orange\", \"pineapple\"]\n",
        "\n",
        "# Sort the list of strings based on the length of each string\n",
        "sorted_strings = sorted(strings, key=lambda x: len(x))\n",
        "\n",
        "print(sorted_strings)\n"
      ],
      "metadata": {
        "colab": {
          "base_uri": "https://localhost:8080/"
        },
        "id": "VENMHyweAEQQ",
        "outputId": "caa6a683-b522-4ea6-87e4-64edaaf84253"
      },
      "execution_count": 8,
      "outputs": [
        {
          "output_type": "stream",
          "name": "stdout",
          "text": [
            "['kiwi', 'apple', 'banana', 'orange', 'pineapple']\n"
          ]
        }
      ]
    },
    {
      "cell_type": "markdown",
      "source": [
        "10. Create a lambda function that takes two lists as input and returns a new list containing the\n",
        "common elements between the two lists.\n",
        "Ans:-"
      ],
      "metadata": {
        "id": "UvmIZU_EAFI3"
      }
    },
    {
      "cell_type": "code",
      "source": [
        "# Define two lists\n",
        "list1 = [1, 2, 3, 4, 5]\n",
        "list2 = [3, 4, 5, 6, 7]\n",
        "\n",
        "# Create a lambda function to filter common elements\n",
        "common_elements = lambda lst1, lst2: list(filter(lambda x: x in lst2, lst1))\n",
        "\n",
        "# Find common elements between the two lists\n",
        "result = common_elements(list1, list2)\n",
        "\n",
        "print(result)  # Output: [3, 4, 5]\n"
      ],
      "metadata": {
        "colab": {
          "base_uri": "https://localhost:8080/"
        },
        "id": "f7-kpS1wAODQ",
        "outputId": "ef84d015-d249-4de0-eb0a-816c2d93d141"
      },
      "execution_count": 9,
      "outputs": [
        {
          "output_type": "stream",
          "name": "stdout",
          "text": [
            "[3, 4, 5]\n"
          ]
        }
      ]
    },
    {
      "cell_type": "markdown",
      "source": [
        "11. Write a recursive function to calculate the factorial of a given positive integer.\n",
        "Ans:-"
      ],
      "metadata": {
        "id": "1tcCqV14AOx_"
      }
    },
    {
      "cell_type": "code",
      "source": [
        "def factorial(n):\n",
        "    # Base case: factorial of 0 is 1\n",
        "    if n == 0:\n",
        "        return 1\n",
        "    # Recursive case: factorial of n is n * factorial of (n - 1)\n",
        "    else:\n",
        "        return n * factorial(n - 1)\n",
        "\n",
        "# Test the function\n",
        "print(factorial(5))  # Output: 120\n"
      ],
      "metadata": {
        "colab": {
          "base_uri": "https://localhost:8080/"
        },
        "id": "qC1I3mjDAWU5",
        "outputId": "7bf4c5fe-abef-4e31-95b1-d7b289ca965c"
      },
      "execution_count": 10,
      "outputs": [
        {
          "output_type": "stream",
          "name": "stdout",
          "text": [
            "120\n"
          ]
        }
      ]
    },
    {
      "cell_type": "markdown",
      "source": [
        "12. Implement a recursive function to compute the nth Fibonacci number.\n",
        "Ans:-"
      ],
      "metadata": {
        "id": "9boiRnFQAXGj"
      }
    },
    {
      "cell_type": "code",
      "source": [
        "def fibonacci(n):\n",
        "    # Base cases: Fibonacci(0) = 0, Fibonacci(1) = 1\n",
        "    if n == 0:\n",
        "        return 0\n",
        "    elif n == 1:\n",
        "        return 1\n",
        "    # Recursive case: Fibonacci(n) = Fibonacci(n-1) + Fibonacci(n-2)\n",
        "    else:\n",
        "        return fibonacci(n - 1) + fibonacci(n - 2)\n",
        "\n",
        "# Test the function\n",
        "print(fibonacci(5))  # Output: 5\n"
      ],
      "metadata": {
        "colab": {
          "base_uri": "https://localhost:8080/"
        },
        "id": "XnReXC1eAdLn",
        "outputId": "0deecb16-53bc-460b-89f8-6315e3a2f7ad"
      },
      "execution_count": 11,
      "outputs": [
        {
          "output_type": "stream",
          "name": "stdout",
          "text": [
            "5\n"
          ]
        }
      ]
    },
    {
      "cell_type": "markdown",
      "source": [
        "13. Create a recursive function to find the sum of all the elements in a given list.\n",
        "Ans:-"
      ],
      "metadata": {
        "id": "jVm_NopyAd6W"
      }
    },
    {
      "cell_type": "code",
      "source": [
        "def sum_of_elements(lst):\n",
        "    # Base case: if the list is empty, return 0\n",
        "    if len(lst) == 0:\n",
        "        return 0\n",
        "    # Recursive case: sum of elements is the first element plus the sum of the rest of the elements\n",
        "    else:\n",
        "        return lst[0] + sum_of_elements(lst[1:])\n",
        "\n",
        "# Test the function\n",
        "my_list = [1, 2, 3, 4, 5]\n",
        "print(sum_of_elements(my_list))  # Output: 15\n"
      ],
      "metadata": {
        "colab": {
          "base_uri": "https://localhost:8080/"
        },
        "id": "xppMWiPgAjN_",
        "outputId": "88d0c0d0-3a33-4405-fa4d-9283987feadf"
      },
      "execution_count": 12,
      "outputs": [
        {
          "output_type": "stream",
          "name": "stdout",
          "text": [
            "15\n"
          ]
        }
      ]
    },
    {
      "cell_type": "markdown",
      "source": [
        "14. Write a recursive function to determine whether a given string is a palindrome.\n",
        "Ans:-"
      ],
      "metadata": {
        "id": "98veivoqAkDa"
      }
    },
    {
      "cell_type": "code",
      "source": [
        "def is_palindrome(s):\n",
        "    # Base case: if the string is empty or has only one character, it's a palindrome\n",
        "    if len(s) <= 1:\n",
        "        return True\n",
        "    # Check if the first and last characters are equal\n",
        "    if s[0] == s[-1]:\n",
        "        # Recursive case: check if the substring excluding the first and last characters is a palindrome\n",
        "        return is_palindrome(s[1:-1])\n",
        "    else:\n",
        "        return False\n",
        "\n",
        "# Test the function\n",
        "print(is_palindrome(\"radar\"))  # Output: True\n",
        "print(is_palindrome(\"python\"))  # Output: False\n"
      ],
      "metadata": {
        "colab": {
          "base_uri": "https://localhost:8080/"
        },
        "id": "mX9QR2CMArR7",
        "outputId": "7045fc35-6660-4052-e1ef-f5b4f914e6af"
      },
      "execution_count": 13,
      "outputs": [
        {
          "output_type": "stream",
          "name": "stdout",
          "text": [
            "True\n",
            "False\n"
          ]
        }
      ]
    },
    {
      "cell_type": "markdown",
      "source": [
        "15. Implement a recursive function to find the greatest common divisor (GCD) of two positive integers.\n",
        "Ans:-"
      ],
      "metadata": {
        "id": "JHusS3tOAsPK"
      }
    },
    {
      "cell_type": "code",
      "source": [
        "def gcd(a, b):\n",
        "    # Base case: if b is 0, the GCD is a\n",
        "    if b == 0:\n",
        "        return a\n",
        "    # Recursive case: call gcd recursively with b and the remainder of a divided by b\n",
        "    else:\n",
        "        return gcd(b, a % b)\n",
        "\n",
        "# Test the function\n",
        "print(gcd(48, 18))  # Output: 6\n",
        "print(gcd(60, 48))  # Output: 12\n"
      ],
      "metadata": {
        "id": "4ejgzXn8Ay0Q",
        "outputId": "bd3f0ee5-5b26-45f7-c114-8c1932b62dee",
        "colab": {
          "base_uri": "https://localhost:8080/"
        }
      },
      "execution_count": 14,
      "outputs": [
        {
          "output_type": "stream",
          "name": "stdout",
          "text": [
            "6\n",
            "12\n"
          ]
        }
      ]
    }
  ]
}