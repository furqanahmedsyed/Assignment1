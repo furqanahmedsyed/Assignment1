{
  "nbformat": 4,
  "nbformat_minor": 0,
  "metadata": {
    "colab": {
      "provenance": []
    },
    "kernelspec": {
      "name": "python3",
      "display_name": "Python 3"
    },
    "language_info": {
      "name": "python"
    }
  },
  "cells": [
    {
      "cell_type": "code",
      "execution_count": null,
      "metadata": {
        "id": "l8w2vV8vAEAS"
      },
      "outputs": [],
      "source": []
    },
    {
      "cell_type": "markdown",
      "source": [
        "1. In Python, what is the difference between a built-in function and a user-defined function? Provide an\n",
        "example of each.\n",
        "Answer:- Built-in Functions:\n",
        "Built-in functions are functions that are already defined and available for use in Python without the need to import any module.\n",
        "These functions are part of the Python standard library and provide common operations that are frequently used in programming tasks.\n",
        "Examples of built-in functions include print(), len(), sum(), max(), min(), etc.\n",
        "User-defined Functions:\n",
        "\n",
        "User-defined functions are functions that are created by the programmer to perform specific tasks.\n",
        "These functions are defined using the def keyword followed by the function name, parameters (if any), and a block of code that specifies what the function should do.\n",
        "User-defined functions allow for code reuse and help in organizing code into smaller, manageable pieces."
      ],
      "metadata": {
        "id": "xjFGI_BNAExU"
      }
    },
    {
      "cell_type": "code",
      "source": [
        "# Example of using a built-in function\n",
        "numbers = [1, 2, 3, 4, 5]\n",
        "print(sum(numbers))  # Output: 15\n"
      ],
      "metadata": {
        "colab": {
          "base_uri": "https://localhost:8080/"
        },
        "id": "vlcmND0sARPN",
        "outputId": "de05a498-b160-4367-ba28-da854b8c4cb3"
      },
      "execution_count": 1,
      "outputs": [
        {
          "output_type": "stream",
          "name": "stdout",
          "text": [
            "15\n"
          ]
        }
      ]
    },
    {
      "cell_type": "code",
      "source": [
        "# Example of defining and using a user-defined function\n",
        "def greet(name):\n",
        "    print(f\"Hello, {name}!\")\n",
        "\n",
        "greet(\"John\")  # Output: Hello, John!\n"
      ],
      "metadata": {
        "colab": {
          "base_uri": "https://localhost:8080/"
        },
        "id": "H0Uets1GAS0G",
        "outputId": "07d6ec2b-4c6d-44ba-8558-bcf84ca73585"
      },
      "execution_count": 2,
      "outputs": [
        {
          "output_type": "stream",
          "name": "stdout",
          "text": [
            "Hello, John!\n"
          ]
        }
      ]
    },
    {
      "cell_type": "markdown",
      "source": [
        "2. How can you pass arguments to a function in Python? Explain the difference between positional\n",
        "arguments and keyword arguments.\n",
        "Answer:- Positional Arguments:\n",
        "\n",
        "Positional arguments are passed to a function based on their position or order in the function definition.\n",
        "The order and number of positional arguments must match the order and number of parameters defined in the function.\n",
        "Keyword Arguments:\n",
        "\n",
        "Keyword arguments are passed to a function using the parameter names explicitly.\n",
        "When using keyword arguments, the order of the arguments does not matter as long as the parameter names are specified.\n",
        "Keyword arguments can make the code more readable and self-explanatory, especially when dealing with functions that have many parameters.\n",
        "Difference between Positional Arguments and Keyword Arguments:\n",
        "Positional Arguments:\n",
        "\n",
        "Passed based on their position.\n",
        "Order matters.\n",
        "Mandatory unless a default value is provided.\n",
        "Keyword Arguments:\n",
        "\n",
        "Passed using the parameter names.\n",
        "Order does not matter.\n",
        "Can make function calls more explicit and self-documenting.\n",
        "\n",
        "\n",
        "\n",
        "3. What is the purpose of the return statement in a function? Can a function have multiple return\n",
        "statements? Explain with an example.\n",
        "Answer:- Purpose of the return statement:\n",
        "Returning Values: Functions can perform calculations or operations and return the result to the caller. This result can then be assigned to variables, used in expressions, or passed as arguments to other functions.\n",
        "\n",
        "Exiting Early: return can also be used to exit a function prematurely if a certain condition is met, without executing the rest of the code in the function.\n",
        "Can a function have multiple return statements?\n",
        "Yes, a function can have multiple return statements. However, only one return statement is executed during the function's execution. When the function encounters a return statement, it immediately exits the function and returns the specified value. Subsequent return statements after the first executed return statement are not executed.\n",
        "Example of a function with multiple return statements:\n"
      ],
      "metadata": {
        "id": "WyneHoDhAUIT"
      }
    },
    {
      "cell_type": "code",
      "source": [
        "def check_number(x):\n",
        "    if x > 0:\n",
        "        return \"Positive\"\n",
        "    elif x < 0:\n",
        "        return \"Negative\"\n",
        "    else:\n",
        "        return \"Zero\"\n",
        "\n",
        "number1 = 10\n",
        "number2 = -5\n",
        "number3 = 0\n",
        "\n",
        "# Function calls with multiple return statements\n",
        "result1 = check_number(number1)  # returns \"Positive\"\n",
        "result2 = check_number(number2)  # returns \"Negative\"\n",
        "result3 = check_number(number3)  # returns \"Zero\"\n",
        "\n",
        "print(result1)  # Output: Positive\n",
        "print(result2)  # Output: Negative\n",
        "print(result3)  # Output: Zero\n"
      ],
      "metadata": {
        "colab": {
          "base_uri": "https://localhost:8080/"
        },
        "id": "s7c2Up4eA6NX",
        "outputId": "d87e17b2-5a88-4c56-d9a3-71726159f62a"
      },
      "execution_count": 3,
      "outputs": [
        {
          "output_type": "stream",
          "name": "stdout",
          "text": [
            "Positive\n",
            "Negative\n",
            "Zero\n"
          ]
        }
      ]
    },
    {
      "cell_type": "code",
      "source": [],
      "metadata": {
        "id": "WGbjN31FA7rm"
      },
      "execution_count": null,
      "outputs": []
    },
    {
      "cell_type": "markdown",
      "source": [
        "4. What are lambda functions in Python? How are they different from regular functions? Provide an\n",
        "example where a lambda function can be useful.\n",
        "Answer:- Lambda functions in Python are small, anonymous functions that can have any number of parameters but can only have one expression. They are defined using the lambda keyword, which is followed by the parameters and then the expression to be evaluated.\n",
        "\n",
        "Lambda functions are different from regular functions in the following ways:\n",
        "\n",
        "Syntax: Lambda functions are defined using a more compact syntax compared to regular functions. They lack a formal def statement and are defined in a single line.\n",
        "\n",
        "Anonymous: Lambda functions are anonymous, meaning they don't require a function name to be defined. They are typically used for short operations where a named function would be overkill.\n",
        "\n",
        "Limited Functionality: Lambda functions can only contain a single expression. They are best suited for short, simple operations and are not intended for complex tasks"
      ],
      "metadata": {
        "id": "qBD0Y0azA-Qp"
      }
    },
    {
      "cell_type": "code",
      "source": [
        "# Example 1: Sorting a list of tuples based on the second element\n",
        "data = [(1, 5), (3, 2), (7, 1), (4, 9)]\n",
        "sorted_data = sorted(data, key=lambda x: x[1])\n",
        "print(sorted_data)  # Output: [(7, 1), (3, 2), (1, 5), (4, 9)]\n",
        "\n",
        "# Example 2: Finding the square of a number using a lambda function\n",
        "square = lambda x: x ** 2\n",
        "print(square(5))  # Output: 25\n",
        "\n",
        "# Example 3: Filtering a list using a lambda function\n",
        "numbers = [1, 2, 3, 4, 5, 6, 7, 8, 9, 10]\n",
        "even_numbers = list(filter(lambda x: x % 2 == 0, numbers))\n",
        "print(even_numbers)  # Output: [2, 4, 6, 8, 10]\n"
      ],
      "metadata": {
        "colab": {
          "base_uri": "https://localhost:8080/"
        },
        "id": "x0nknqxWBKDc",
        "outputId": "4ddc622d-11b6-40c0-a95f-839265c29a67"
      },
      "execution_count": 4,
      "outputs": [
        {
          "output_type": "stream",
          "name": "stdout",
          "text": [
            "[(7, 1), (3, 2), (1, 5), (4, 9)]\n",
            "25\n",
            "[2, 4, 6, 8, 10]\n"
          ]
        }
      ]
    },
    {
      "cell_type": "markdown",
      "source": [
        "5. How does the concept of \"scope\" apply to functions in Python? Explain the difference between local\n",
        "scope and global scope.\n",
        "Answer:- In Python, \"scope\" refers to the region or context in a program where a variable is recognized and can be accessed. The concept of scope applies to functions in Python, defining where variables and names are accessible and can be referenced.\n",
        "\n",
        "Local Scope:\n",
        "Local scope refers to the region within a function where variables are defined.\n",
        "Variables defined inside a function are only accessible within that function's scope, meaning they cannot be accessed from outside the function.\n",
        "Local variables are created when the function is called and destroyed when the function completes execution.\n",
        "If a variable with the same name as a local variable exists outside the function, the function uses its local variable and does not affect the outside variable.\n",
        "Global Scope:\n",
        "Global scope refers to the region outside all functions, where variables are defined at the top level of the program.\n",
        "Global variables are accessible from any part of the program, including inside functions.\n",
        "Variables defined outside all functions are considered global and can be accessed and modified from within any function.\n",
        "If a variable is referenced within a function and is not defined locally, Python searches for it in the global scope.\n",
        "However, if you want to modify a global variable from within a function, you need to use the global keyword to declare the variable as global.\n",
        "\n",
        "\n",
        "6. How can you use the \"return\" statement in a Python function to return multiple values?\n",
        "Answer:-\n",
        "In Python, you can use the return statement in a function to return multiple values by returning them as part of a tuple, list, dictionary, or any other iterable data structure. When using the return statement to return multiple values, you can simply separate the values with commas."
      ],
      "metadata": {
        "id": "Sm966xncBLIR"
      }
    },
    {
      "cell_type": "code",
      "source": [
        "def multiple_values():\n",
        "    a = 5\n",
        "    b = 10\n",
        "    c = \"Hello\"\n",
        "    return a, b, c\n",
        "\n",
        "# Calling the function\n",
        "result = multiple_values()\n",
        "print(result)  # Output: (5, 10, 'Hello')\n"
      ],
      "metadata": {
        "colab": {
          "base_uri": "https://localhost:8080/"
        },
        "id": "N7GsKNdWBj3A",
        "outputId": "9a630861-88d9-47c6-dd85-2496dfad1092"
      },
      "execution_count": 5,
      "outputs": [
        {
          "output_type": "stream",
          "name": "stdout",
          "text": [
            "(5, 10, 'Hello')\n"
          ]
        }
      ]
    },
    {
      "cell_type": "markdown",
      "source": [
        "7. What is the difference between the \"pass by value\" and \"pass by reference\" concepts when it\n",
        "comes to function arguments in Python?\n",
        "Ans:- Pass by Value:\n",
        "In languages that use pass by value, a copy of the actual data is passed to the function. Changes made to the parameter within the function do not affect the original variable.\n",
        "Modifications to the parameter within the function are done on the copy of the value, leaving the original value unchanged.\n",
        "Changes made to the parameter within the function do not reflect outside the function.\n",
        "Pass by Reference:\n",
        "In languages that use pass by reference, a reference to the actual data is passed to the function. Any changes made to the parameter within the function affect the original variable.\n",
        "The function operates directly on the original variable rather than a copy of its value.\n",
        "Changes made to the parameter within the function are reflected outside the function.\n",
        "\n",
        "\n",
        "8. Create a function that can intake integer or decimal value and do following operations:\n",
        "a. Logarithmic function (log x)\n",
        "b. Exponential function (exp(x))\n",
        "c. Power function with base 2 (2x)\n",
        "d. Square root\n",
        "Answer:-"
      ],
      "metadata": {
        "id": "l-qFevTzBliH"
      }
    },
    {
      "cell_type": "code",
      "source": [
        "import math\n",
        "\n",
        "def perform_operations(x):\n",
        "    # Logarithmic function (log x)\n",
        "    logarithm = math.log(x)\n",
        "\n",
        "    # Exponential function (exp(x))\n",
        "    exponential = math.exp(x)\n",
        "\n",
        "    # Power function with base 2 (2^x)\n",
        "    power_base_2 = 2 ** x\n",
        "\n",
        "    # Square root\n",
        "    square_root = math.sqrt(x)\n",
        "\n",
        "    # Printing results\n",
        "    print(f\"Logarithmic function (log x) of {x} is: {logarithm}\")\n",
        "    print(f\"Exponential function (exp(x)) of {x} is: {exponential}\")\n",
        "    print(f\"Power function with base 2 (2^x) of {x} is: {power_base_2}\")\n",
        "    print(f\"Square root of {x} is: {square_root}\")\n",
        "\n",
        "# Test the function with an integer and a decimal value\n",
        "perform_operations(4)    # Test with an integer\n",
        "print(\"----------------------\")\n",
        "perform_operations(2.5)  # Test with a decimal value\n"
      ],
      "metadata": {
        "colab": {
          "base_uri": "https://localhost:8080/"
        },
        "id": "WqpeZWyHCD8I",
        "outputId": "54a61d90-8d40-4902-c2f9-e8e4745593f5"
      },
      "execution_count": 6,
      "outputs": [
        {
          "output_type": "stream",
          "name": "stdout",
          "text": [
            "Logarithmic function (log x) of 4 is: 1.3862943611198906\n",
            "Exponential function (exp(x)) of 4 is: 54.598150033144236\n",
            "Power function with base 2 (2^x) of 4 is: 16\n",
            "Square root of 4 is: 2.0\n",
            "----------------------\n",
            "Logarithmic function (log x) of 2.5 is: 0.9162907318741551\n",
            "Exponential function (exp(x)) of 2.5 is: 12.182493960703473\n",
            "Power function with base 2 (2^x) of 2.5 is: 5.656854249492381\n",
            "Square root of 2.5 is: 1.5811388300841898\n"
          ]
        }
      ]
    },
    {
      "cell_type": "markdown",
      "source": [
        "9. Create a function that takes a full name as an argument and returns first name and last name.\n",
        "Answer:-"
      ],
      "metadata": {
        "id": "17k4XUwYCFEq"
      }
    },
    {
      "cell_type": "code",
      "source": [
        "def extract_first_last_name(full_name):\n",
        "    # Split the full name into components based on spaces\n",
        "    name_parts = full_name.split()\n",
        "\n",
        "    # Extract the first name (first component)\n",
        "    first_name = name_parts[0]\n",
        "\n",
        "    # Extract the last name (last component)\n",
        "    last_name = name_parts[-1]\n",
        "\n",
        "    return first_name, last_name\n",
        "\n",
        "# Test the function\n",
        "full_name = \"John Doe\"\n",
        "first_name, last_name = extract_first_last_name(full_name)\n",
        "print(\"First Name:\", first_name)  # Output: John\n",
        "print(\"Last Name:\", last_name)    # Output: Doe\n"
      ],
      "metadata": {
        "id": "qtkV7xPXCNTW",
        "outputId": "6de14e5b-9b30-448b-bf3c-7cff4d171b56",
        "colab": {
          "base_uri": "https://localhost:8080/"
        }
      },
      "execution_count": 7,
      "outputs": [
        {
          "output_type": "stream",
          "name": "stdout",
          "text": [
            "First Name: John\n",
            "Last Name: Doe\n"
          ]
        }
      ]
    },
    {
      "cell_type": "code",
      "source": [],
      "metadata": {
        "id": "n1H3lriECNxV"
      },
      "execution_count": null,
      "outputs": []
    }
  ]
}