{
  "nbformat": 4,
  "nbformat_minor": 0,
  "metadata": {
    "colab": {
      "provenance": []
    },
    "kernelspec": {
      "name": "python3",
      "display_name": "Python 3"
    },
    "language_info": {
      "name": "python"
    }
  },
  "cells": [
    {
      "cell_type": "markdown",
      "source": [
        "1. Why are functions advantageous to have in your programs?\n",
        "Answer:- Functions offer several advantages in programming, contributing to code organization, reusability, and maintainability. Here are some key reasons why functions are advantageous in programs:\n",
        "\n",
        "Modularity:\n",
        "Functions allow you to break down a program into smaller, manageable units or modules.\n",
        "Each function can perform a specific task or solve a particular problem, making the code more modular and easier to understand.\n",
        "Reuse of Code:\n",
        "Once you define a function, you can use it multiple times throughout your program.\n",
        "Code reuse reduces redundancy and makes it easier to update and maintain your code because changes only need to be made in one place.\n",
        "Readability:\n",
        "Functions improve the readability of your code by encapsulating logic into named blocks.\n",
        "Descriptive function names make it clear what a particular part of the code is intended to do, enhancing overall code comprehension.\n",
        "Abstraction:\n",
        "Functions provide a level of abstraction, allowing you to focus on the higher-level functionality without getting bogged down by the details of the implementation.\n",
        "This abstraction makes it easier to conceptualize and reason about the program.\n",
        "Scoping:\n",
        "Functions introduce scope, which helps manage variable visibility and prevents naming conflicts.\n",
        "\n",
        "\n",
        "2. When does the code in a function run: when its specified or when its called?\n",
        "Answer:-The code within a function runs when the function is called, not when it is specified or defined. When you define a function in a programming language, you are essentially creating a reusable block of code with a specific name and behavior. The actual execution of the code inside the function occurs only when the function is invoked or called elsewhere in your program.\n",
        "\n",
        "\n",
        "3. What statement creates a function?\n",
        "Answer:- In many programming languages, including Python, the statement that creates a function is the def (define) statement. The def statement is used to define a function by specifying its name, parameters (if any), and the block of code that constitutes the function's body.\n",
        "In this example:\n",
        "def is the keyword used to indicate the start of a function definition.\n",
        "greet is the name of the function.\n",
        "(name) is the parameter list, specifying that the function takes one parameter named name.\n",
        "The colon : indicates the beginning of the function body.\n",
        "The code inside the function is indented and constitutes the function's implementation.\n",
        "\n",
        "\n",
        "4. What is the difference between a function and a function call?\n",
        "Answer:- A function and a function call are related concepts in programming, but they refer to different aspects of program execution.\n",
        "\n",
        "Function:\n",
        "\n",
        "A function is a block of reusable code that performs a specific task or set of tasks.\n",
        "Functions are defined using a def statement (in languages like Python) or a similar construct in other languages.\n",
        "Functions typically have a name, parameters (optional), and a body containing the code to be executed when the function is called.\n",
        "Function Call:\n",
        "A function call is the act of requesting the execution of a specific function.\n",
        "When a function is called, the program transfers control to the function's body, and the code inside the function is executed.\n",
        "Function calls are made by using the function's name followed by parentheses, optionally passing any required arguments.\n",
        "\n",
        "\n",
        "5. How many global scopes are there in a Python program? How many local scopes?\n",
        "Answer:- Global Scope:\n",
        "There is only one global scope in a Python program.\n",
        "The global scope is the outermost scope and is not confined to any specific function or block.\n",
        "Variables defined in the global scope are accessible throughout the entire program, including inside functions.\n",
        "Local Scopes:\n",
        "Each function call in Python creates a new local scope.\n",
        "Variables defined within a function are local to that function and can only be accessed within that function.\n",
        "When the function is called, its local scope is created, and when the function completes execution, the local scope is destroyed.\n",
        "\n",
        "\n",
        "6. What happens to variables in a local scope when the function call returns?\n",
        "Answer:-\n"
      ],
      "metadata": {
        "id": "bOVzuzuvjGLF"
      }
    },
    {
      "cell_type": "code",
      "source": [
        "def my_function():\n",
        "    local_variable = 5\n",
        "    print(\"Inside the function:\", local_variable)\n",
        "\n",
        "my_function()  # Call the function\n",
        "\n",
        "# print(local_variable)  # This line would result in an error because local_variable is not defined in this scope\n"
      ],
      "metadata": {
        "colab": {
          "base_uri": "https://localhost:8080/"
        },
        "id": "eQG_obLQkswl",
        "outputId": "81952456-c99e-4d5e-b9df-3ad16436746b"
      },
      "execution_count": 1,
      "outputs": [
        {
          "output_type": "stream",
          "name": "stdout",
          "text": [
            "Inside the function: 5\n"
          ]
        }
      ]
    },
    {
      "cell_type": "markdown",
      "source": [
        "In this example, local_variable is a variable defined within the local scope of the my_function function. When the function is called, the local scope is created, the variable is assigned a value, and the print statement within the function prints the value. However, once the function call completes, attempting to access local_variable outside the function (as shown in the commented-out line) would result in an error because the variable is no longer in scope.\n",
        "\n",
        "\n",
        "7. What is the concept of a return value? Is it possible to have a return value in an expression?\n",
        "Answer:-"
      ],
      "metadata": {
        "id": "8h5k-7v-kvTl"
      }
    },
    {
      "cell_type": "code",
      "source": [
        "def add_numbers(a, b):\n",
        "    result = a + b\n",
        "    return result\n"
      ],
      "metadata": {
        "id": "wzMK1UYhlBhv"
      },
      "execution_count": 2,
      "outputs": []
    },
    {
      "cell_type": "markdown",
      "source": [
        "In this example, the add_numbers function takes two parameters, a and b, adds them together, assigns the result to the result variable, and then returns the value of result using the return statement.\n",
        "\n",
        "\n",
        "8. If a function does not have a return statement, what is the return value of a call to that function?\n",
        "Answer:-"
      ],
      "metadata": {
        "id": "UL90FjAKlDYi"
      }
    },
    {
      "cell_type": "code",
      "source": [
        "def my_function():\n",
        "    print(\"This function does not have a return statement.\")\n",
        "\n",
        "result = my_function()\n",
        "print(result)  # Output: None\n"
      ],
      "metadata": {
        "colab": {
          "base_uri": "https://localhost:8080/"
        },
        "id": "DPSxEOrBlP_X",
        "outputId": "084f77c1-51f4-4482-d7d8-928da135b2a0"
      },
      "execution_count": 3,
      "outputs": [
        {
          "output_type": "stream",
          "name": "stdout",
          "text": [
            "This function does not have a return statement.\n",
            "None\n"
          ]
        }
      ]
    },
    {
      "cell_type": "markdown",
      "source": [
        "In this example, the my_function function prints a message but does not have a return statement. When you call this function and assign the result to a variable (result), printing the value of result will show None.\n",
        "It's important to note that when a function lacks a return statement or ends without executing a return statement, Python implicitly returns None. If you don't explicitly return a value from a function, its return value is effectively None.\n",
        "\n",
        "\n",
        "9. How do you make a function variable refer to the global variable?\n",
        "Answer:-"
      ],
      "metadata": {
        "id": "EZjZpOE1lSbW"
      }
    },
    {
      "cell_type": "code",
      "source": [
        "global_variable = 10  # This is a global variable\n",
        "\n",
        "def my_function():\n",
        "    global global_variable  # Using the global keyword\n",
        "    print(\"Inside the function:\", global_variable)\n",
        "\n",
        "my_function()  # Call the function\n"
      ],
      "metadata": {
        "colab": {
          "base_uri": "https://localhost:8080/"
        },
        "id": "KAUGJE0Ulf3R",
        "outputId": "4b133d39-2131-4234-8c0c-8bf5cd660c89"
      },
      "execution_count": 4,
      "outputs": [
        {
          "output_type": "stream",
          "name": "stdout",
          "text": [
            "Inside the function: 10\n"
          ]
        }
      ]
    },
    {
      "cell_type": "markdown",
      "source": [
        "In this example, global_variable is a global variable defined outside the function. Inside my_function, the global keyword is used to indicate that the global_variable being referred to is the global one, not a local variable with the same name. When the function is called, it prints the value of the global variable.\n",
        "It's important to note that modifying a global variable inside a function without using the global keyword creates a new local variable with the same name within the function's scope. The global keyword is necessary to explicitly indicate that you want to refer to the global variable.\n",
        "\n",
        "\n",
        "10. What is the data type of None?\n",
        "Answer:- In Python, None is a special constant that represents the absence of a value or a null value. It is often used to signify that a variable or expression does not have a meaningful value.\n",
        "The data type of None is the NoneType. You can check the type of a variable using the type() function.\n",
        "\n",
        "\n",
        "11. What does the sentence import areallyourpetsnamederic do?\n",
        "Answer:- The sentence \"import areallyourpetsnamederic\" is not a valid Python import statement, and it would result in a ModuleNotFoundError. Python import statements are used to bring in modules or packages, and the syntax follows the pattern import module_name.\n",
        "In this case, \"areallyourpetsnamederic\" is not a standard Python module or package, so attempting to import it would raise an error unless you have a custom module or package with that name in your project.\n",
        "\n",
        "\n",
        "12. If you had a bacon() feature in a spam module, what would you call it after importing spam?\n",
        "Answer:- If you have a function named bacon() in a module named spam and you want to use it after importing the spam module.\n",
        "Here, spam is the name of the module, and bacon() is the function within that module. By using the dot notation (spam.bacon()), you specify that you want to call the bacon() function that is defined in the spam module.\n",
        "\n",
        "\n",
        "13. What can you do to save a programme from crashing if it encounters an error?\n",
        "Answer:- To prevent a program from crashing when it encounters an error, you can use error handling techniques to gracefully handle exceptions. In Python, this is typically done using the try, except, else, and finally blocks.\n",
        "\n",
        "\n",
        "14. What is the purpose of the try clause? What is the purpose of the except clause?\n",
        "Answer:- Try Clause:\n",
        "The try clause encloses a block of code where you anticipate the occurrence of exceptions.\n",
        "Code inside the try block is monitored for exceptions.\n",
        "If an exception occurs within the try block, the normal flow of execution is interrupted, and the control is transferred to the nearest except block.\n",
        "\n",
        "Except Clause:\n",
        "The except clause follows the try block and contains the code to be executed if a specified exception occurs.\n",
        "You can have multiple except clauses to handle different types of exceptions.\n",
        "The code inside the except block is only executed if an exception matching the specified type occurs in the associated try block."
      ],
      "metadata": {
        "id": "y91YJLCklhI6"
      }
    },
    {
      "cell_type": "code",
      "source": [],
      "metadata": {
        "id": "prye68rwmEmL"
      },
      "execution_count": null,
      "outputs": []
    }
  ]
}