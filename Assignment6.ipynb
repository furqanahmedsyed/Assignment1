{
  "nbformat": 4,
  "nbformat_minor": 0,
  "metadata": {
    "colab": {
      "provenance": []
    },
    "kernelspec": {
      "name": "python3",
      "display_name": "Python 3"
    },
    "language_info": {
      "name": "python"
    }
  },
  "cells": [
    {
      "cell_type": "code",
      "execution_count": null,
      "metadata": {
        "id": "iLd5Z3Shrzfj"
      },
      "outputs": [],
      "source": []
    },
    {
      "cell_type": "markdown",
      "source": [
        "Q.1. What are keywords in python? Using the keyword library, print all the python keywords.\n",
        "Ans:-\n",
        "In Python, keywords are reserved words that have a special meaning and cannot be used as identifiers (variable names, function names, etc.). These keywords are used to define the syntax and structure of the Python language."
      ],
      "metadata": {
        "id": "4Vo5Rws-r2W3"
      }
    },
    {
      "cell_type": "code",
      "source": [
        "import keyword\n",
        "\n",
        "keywords_list = keyword.kwlist\n",
        "\n",
        "print(\"Python Keywords:\")\n",
        "print(keywords_list)\n"
      ],
      "metadata": {
        "colab": {
          "base_uri": "https://localhost:8080/"
        },
        "id": "arukG-Tyr5Gw",
        "outputId": "d98ee0ec-e5ed-4b34-85da-4dba4a47766d"
      },
      "execution_count": 1,
      "outputs": [
        {
          "output_type": "stream",
          "name": "stdout",
          "text": [
            "Python Keywords:\n",
            "['False', 'None', 'True', 'and', 'as', 'assert', 'async', 'await', 'break', 'class', 'continue', 'def', 'del', 'elif', 'else', 'except', 'finally', 'for', 'from', 'global', 'if', 'import', 'in', 'is', 'lambda', 'nonlocal', 'not', 'or', 'pass', 'raise', 'return', 'try', 'while', 'with', 'yield']\n"
          ]
        }
      ]
    },
    {
      "cell_type": "markdown",
      "source": [
        "Q.2. What are the rules to create variables in python?\n",
        "Ans:- Variable Name Rules:\n",
        "\n",
        "Variable names must begin with a letter (a-z, A-Z) or an underscore _.\n",
        "The remaining characters in the variable name can be letters, underscores, or digits (0-9).\n",
        "Variable names are case-sensitive, meaning myVariable and myvariable are considered different variables.\n",
        "Reserved Words:\n",
        "You cannot use Python keywords as variable names. Keywords are reserved for specific purposes in the language.\n",
        "No Spaces:\n",
        "Variable names cannot contain spaces. Use underscores to represent spaces, e.g., my_variable instead of my variable.\n",
        "Special Characters:\n",
        "Avoid using special characters such as !, @, #, $, %, etc. in variable names, except for the underscore _.\n",
        "Numeric Start:\n",
        "While variable names can include numbers, they cannot start with a number. For example, variable1 is valid, but 1variable is not."
      ],
      "metadata": {
        "id": "5IhjSP4rsCa9"
      }
    },
    {
      "cell_type": "markdown",
      "source": [
        "Q.3. What are the standards and conventions followed for the nomenclature of variables in\n",
        "python to improve code readability and maintainability?\n",
        "Ans:- In Python, adhering to consistent naming conventions and standards is crucial for improving code readability and maintainability. While Python does not enforce strict naming conventions, the community has established some widely accepted practices. Here are the main conventions for naming variables in Python:\n",
        "\n",
        "Snake Case:\n",
        "Use snake_case for variable names. Snake case is a convention where words are written in lowercase, separated by underscores. For example: my_variable, user_name, total_sum.\n",
        "Descriptive and Meaningful:\n",
        "Choose variable names that are descriptive and convey the purpose of the variable. Avoid single-letter variable names unless they represent loop indices (e.g., i, j).\n",
        "Avoid Single Underscore Prefix:\n",
        "While a single underscore prefix (e.g., _variable) is not forbidden, it is often used to indicate a variable that is intended to be private or for internal use.\n",
        "Avoid Double Underscore Prefix and Suffix:\n",
        "Double underscore prefixes and suffixes (e.g., __variable__) are often reserved for special methods or attributes in classes, and their use outside of this context is discouraged.\n",
        "Constants in Uppercase:\n",
        "Use uppercase letters for constants to distinguish them from regular variables. For example: MAX_VALUE, PI.\n",
        "Module and Package Naming:\n",
        "Use short, lowercase names for modules and packages. Avoid using underscores in module names unless it improves readability.\n",
        "\n",
        "\n",
        "Q.4. What will happen if a keyword is used as a variable name?\n",
        "Answer:- If you use a keyword as a variable name in Python, it will result in a syntax error. Keywords in Python are reserved and have special meanings in the language, so they cannot be used as identifiers (variable names, function names, etc.). If you attempt to use a keyword as a variable name, the Python interpreter will raise a SyntaxError.\n",
        "\n",
        "\n",
        "Q.5. For what purpose def keyword is used?\n",
        "Answer:- In Python, the def keyword is used to define a function. Functions are blocks of reusable code that perform a specific task. The def keyword is followed by the function name and a pair of parentheses, which may contain parameters, and a colon. The body of the function is indented and contains the code to be executed when the function is called.\n",
        "\n",
        "\n",
        "Q.6. What is the operation of this special character ‘\\’?\n",
        "Answer:- The backslash (\\) is a special character in Python and many other programming languages, serving as an escape character. Its primary purposes include:\n",
        "\n",
        "Escape Sequences:\n",
        "The backslash is used to introduce escape sequences, which are combinations of characters that have a special meaning. For example:\n",
        "\\n: Newline\n",
        "\\t: Tab\n",
        "\\\\: Literal backslash\n",
        "\\': Single quote\n",
        "\\\": Double quote\n",
        "Continuation Line:\n",
        "The backslash can be used to continue a statement or expression onto the next line, making the code more readable.\n",
        "\n",
        "\n",
        "Q.7. Give an example of the following conditions:\n",
        "(i) Homogeneous list\n",
        "(ii) Heterogeneous set\n",
        "(iii) Homogeneous tuple\n",
        "Answer:-"
      ],
      "metadata": {
        "id": "zpkWMkBjsMQi"
      }
    },
    {
      "cell_type": "code",
      "source": [
        "# Homogeneous list of integers\n",
        "integer_list = [1, 2, 3, 4, 5]\n",
        "print(integer_list)\n",
        "\n"
      ],
      "metadata": {
        "colab": {
          "base_uri": "https://localhost:8080/"
        },
        "id": "xYFObloytHQL",
        "outputId": "b55514e4-11d2-41be-8b8d-0aad6f7f5762"
      },
      "execution_count": 2,
      "outputs": [
        {
          "output_type": "stream",
          "name": "stdout",
          "text": [
            "[1, 2, 3, 4, 5]\n"
          ]
        }
      ]
    },
    {
      "cell_type": "code",
      "source": [
        "# Heterogeneous set with different data types\n",
        "heterogeneous_set = {1, \"hello\", 3.14, (1, 2)}\n",
        "print(heterogeneous_set)\n"
      ],
      "metadata": {
        "colab": {
          "base_uri": "https://localhost:8080/"
        },
        "id": "brjTmwyssAWn",
        "outputId": "a5559f3d-5181-46fe-efa6-157677bf8fc2"
      },
      "execution_count": 3,
      "outputs": [
        {
          "output_type": "stream",
          "name": "stdout",
          "text": [
            "{1, (1, 2), 3.14, 'hello'}\n"
          ]
        }
      ]
    },
    {
      "cell_type": "code",
      "source": [
        "# Homogeneous tuple of strings\n",
        "string_tuple = (\"apple\", \"banana\", \"cherry\")\n",
        "print(string_tuple)\n"
      ],
      "metadata": {
        "colab": {
          "base_uri": "https://localhost:8080/"
        },
        "id": "WTjKeb9wtKsN",
        "outputId": "1a33b456-caaa-4678-8398-40a155344161"
      },
      "execution_count": 4,
      "outputs": [
        {
          "output_type": "stream",
          "name": "stdout",
          "text": [
            "('apple', 'banana', 'cherry')\n"
          ]
        }
      ]
    },
    {
      "cell_type": "markdown",
      "source": [
        "Q.8. Explain the mutable and immutable data types with proper explanation & examples.\n",
        "Answer:- Mutable Data Types:\n",
        "Definition: Mutable data types are those whose values or contents can be altered after the object is created.\n",
        "Examples:\n",
        "List:\n",
        "Lists are mutable in Python. You can modify, add, or remove elements from a list after its creation."
      ],
      "metadata": {
        "id": "DSj1d5rXtNvA"
      }
    },
    {
      "cell_type": "code",
      "source": [
        "my_list = [1, 2, 3]\n",
        "my_list[0] = 10  # Modifying an element\n",
        "my_list.append(4)  # Adding an element\n",
        "my_list.remove(2)  # Removing an element\n"
      ],
      "metadata": {
        "id": "iuBwiaPQtZHT"
      },
      "execution_count": 5,
      "outputs": []
    },
    {
      "cell_type": "markdown",
      "source": [
        "Immutable Data Types:\n",
        "Definition: Immutable data types are those whose values cannot be changed or modified after the object is created. If you want to modify the value, a new object must be created.\n",
        "Examples:\n",
        "Tuple:\n",
        "Tuples are immutable. Once a tuple is created, you cannot change its elements."
      ],
      "metadata": {
        "id": "fqSb8UL9tfyd"
      }
    },
    {
      "cell_type": "code",
      "source": [
        "my_tuple = (1, 2, 3)\n",
        "# This will result in an error\n",
        "# my_tuple[0] = 10\n"
      ],
      "metadata": {
        "id": "WiCAITqAtMIN"
      },
      "execution_count": 6,
      "outputs": []
    },
    {
      "cell_type": "markdown",
      "source": [
        "Q.9. Write a code to create the given structure using only for loop.\n",
        "*\n",
        "***\n",
        "*****\n",
        "*******\n",
        "*********\n",
        "Answer:-"
      ],
      "metadata": {
        "id": "o_UoIPzattlX"
      }
    },
    {
      "cell_type": "code",
      "source": [
        "rows = 5\n",
        "\n",
        "for i in range(1, rows + 1):\n",
        "    for j in range(1, i * 2):\n",
        "        print(\"*\", end=\"\")\n",
        "    print()\n"
      ],
      "metadata": {
        "colab": {
          "base_uri": "https://localhost:8080/"
        },
        "id": "LQ0of6VRty7f",
        "outputId": "2240d96d-5567-4d55-8c8c-14552a865950"
      },
      "execution_count": 7,
      "outputs": [
        {
          "output_type": "stream",
          "name": "stdout",
          "text": [
            "*\n",
            "***\n",
            "*****\n",
            "*******\n",
            "*********\n"
          ]
        }
      ]
    },
    {
      "cell_type": "markdown",
      "source": [
        "Q.10. Write a code to create the given structure using while loop.\n",
        "|||||||||\n",
        "|||||||\n",
        "|||||\n",
        "|||\n",
        "|"
      ],
      "metadata": {
        "id": "q1Yn7PQNt0on"
      }
    },
    {
      "cell_type": "code",
      "source": [
        "rows = 5\n",
        "\n",
        "i = rows\n",
        "while i >= 1:\n",
        "    j = i\n",
        "    while j >= 1:\n",
        "        print(\"|\", end=\"\")\n",
        "        j -= 1\n",
        "    print()\n",
        "    i -= 1\n"
      ],
      "metadata": {
        "colab": {
          "base_uri": "https://localhost:8080/"
        },
        "id": "TXi4Twqatqwu",
        "outputId": "8056bda9-0d5d-4315-c2fa-1fe725d3d76d"
      },
      "execution_count": 10,
      "outputs": [
        {
          "output_type": "stream",
          "name": "stdout",
          "text": [
            "|||||\n",
            "||||\n",
            "|||\n",
            "||\n",
            "|\n"
          ]
        }
      ]
    },
    {
      "cell_type": "code",
      "source": [],
      "metadata": {
        "id": "GmdQmUWVt7xF"
      },
      "execution_count": null,
      "outputs": []
    }
  ]
}