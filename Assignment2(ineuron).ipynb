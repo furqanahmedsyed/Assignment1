{
  "nbformat": 4,
  "nbformat_minor": 0,
  "metadata": {
    "colab": {
      "provenance": [],
      "authorship_tag": "ABX9TyMUgCDqSMh4/KQQ+vTr3dDc",
      "include_colab_link": true
    },
    "kernelspec": {
      "name": "python3",
      "display_name": "Python 3"
    },
    "language_info": {
      "name": "python"
    }
  },
  "cells": [
    {
      "cell_type": "markdown",
      "metadata": {
        "id": "view-in-github",
        "colab_type": "text"
      },
      "source": [
        "<a href=\"https://colab.research.google.com/github/furqanahmedsyed/Assignment1/blob/main/Assignment2(ineuron).ipynb\" target=\"_parent\"><img src=\"https://colab.research.google.com/assets/colab-badge.svg\" alt=\"Open In Colab\"/></a>"
      ]
    },
    {
      "cell_type": "markdown",
      "source": [
        "1.What are the two values of the Boolean data type? How do you write them?\n",
        "Ans:- The Boolean data type has two values: True and False. These values represent the two possible outcomes of a Boolean expression, indicating truth or falsity. In Python (and many other programming languages), these values are written exactly as shown: True and False. It's important to note that the capitalization matters; the first letter is uppercase, and the rest are lowercase.\n",
        "\n",
        "\n",
        "2. What are the three different types of Boolean operators?\n",
        "Ans:- AND Operator (and):\n",
        "The and operator returns True if both operands are True; otherwise, it returns False.\n",
        "OR Operator (or):\n",
        "The or operator returns True if at least one of the operands is True; it returns False only if both operands are False.\n",
        "NOT Operator (not):\n",
        "The not operator returns the opposite Boolean value of its operand. If the operand is True, not returns False, and if the operand is False, not returns True.\n",
        "\n",
        "\n",
        "3. Make a list of each Boolean operator's  truth tables (i.e. every possible combination of Boolean\n",
        "values for the operator and what it evaluate ).\n",
        "Ans:-  AND Operator (and):\n",
        "\n",
        "A\t      B\t    A and B\n",
        "True\tTrue\t  True\n",
        "True\tFalse \tFalse\n",
        "False\tTrue  \tFalse\n",
        "False\tFalse   False\n",
        "\n",
        "OR Operator (or):\n",
        "\n",
        "A\t      B\t   A or B\n",
        "True\tTrue\t  True\n",
        "True\tFalse  \tTrue\n",
        "False\tTrue   \tTrue\n",
        "False\tFalse  \tFalse\n",
        "\n",
        "NOT Operator (not):\n",
        "\n",
        "A\t      not A\n",
        "True\t  False\n",
        "False  \tTrue\n",
        "\n",
        "\n",
        "\n",
        "4.What are the values of the following expressions?\n",
        "(5 > 4) and (3 == 5)\n",
        "not (5 > 4)\n",
        "(5 > 4) or (3 == 5)\n",
        "not ((5 > 4) or (3 == 5))\n",
        "(True and True) and (True == False)\n",
        "(not False) or (not True)\n",
        "Ans:- (5 > 4) and (3 == 5)\n",
        "\n",
        "Result: False (The first condition is true, but the second condition is false)\n",
        "not (5 > 4)\n",
        "\n",
        "Result: False (The original condition is true, but not negates it to false)\n",
        "(5 > 4) or (3 == 5)\n",
        "\n",
        "Result: True (The first condition is true, so the overall expression is true)\n",
        "not ((5 > 4) or (3 == 5))\n",
        "\n",
        "Result: False (The original condition is true, so not negates it to false)\n",
        "(True and True) and (True == False)\n",
        "\n",
        "Result: False (The second part of the expression evaluates to False because True == False is false)\n",
        "(not False) or (not True)\n",
        "\n",
        "Result: True (The first part is True because not False is true; the second part is True because not True is true)\n",
        "So, in summary:\n",
        "\n",
        "False, False, True, False, False, True are the results of the respective expressions.\n",
        "\n",
        "\n",
        "\n",
        "\n",
        "5. What are the six comparison operators?\n",
        "Ans:- Here are the six comparison operators:\n",
        "Equal to (==):\n",
        "Checks if two values are equal.\n",
        "Example: 5 == 5 evaluates to True.\n",
        "\n",
        "Not equal to (!=):\n",
        "Checks if two values are not equal.\n",
        "Example: 5 != 3 evaluates to True.\n",
        "\n",
        "Greater than (>):\n",
        "Checks if the left operand is greater than the right operand.\n",
        "Example: 6 > 4 evaluates to True.\n",
        "\n",
        "Less than (<):\n",
        "Checks if the left operand is less than the right operand.\n",
        "Example: 3 < 7 evaluates to True.\n",
        "\n",
        "Greater than or equal to (>=):\n",
        "Checks if the left operand is greater than or equal to the right operand.\n",
        "Example: 5 >= 5 evaluates to True.\n",
        "\n",
        "Less than or equal to (<=):\n",
        "Checks if the left operand is less than or equal to the right operand.\n",
        "Example: 4 <= 6 evaluates to True.\n",
        "\n",
        "\n",
        "6. How do you tell the difference between the equal to and assignment operators?Describe a condition and when you would use one.\n",
        "Ans:- Equal To Operator (==):\n",
        "The equal to operator is a comparison operator used to check if two values are equal.\n",
        "Example:\n",
        "x = 5\n",
        "y = 7\n",
        "result = (x == y)  # Checks if the values of x and y are equal\n",
        "In this example, result will be False because the values of x and y are not equal.\n",
        "Assignment Operator (=):\n",
        "The assignment operator is used to assign a value to a variable.\n",
        "Example:\n",
        "x = 5\n",
        "In this example, the value 5 is assigned to the variable x\n",
        "To differentiate between the two:\n",
        "The equal to operator (==) is used in expressions to compare values and returns a Boolean result.\n",
        "The assignment operator (=) is used to assign a value to a variable.\n",
        "\n",
        "\n",
        "7. Identify the three blocks in this code:\n",
        "spam = 0\n",
        "if spam == 10:\n",
        "print('eggs')\n",
        "if spam > 5:\n",
        "print('bacon')\n",
        "else:\n",
        "print('ham')\n",
        "print('spam')\n",
        "print('spam')\n",
        "Ans:- In Python, blocks of code are defined by indentation. In the provided code snippet, indentation is crucial for determining the blocks. However, the given code has inconsistent indentation, which may be due to formatting issues. I'll assume the correct indentation for the purpose of identification\n",
        "spam = 0\n",
        "if spam == 10:\n",
        "    print('eggs')  # Block 1\n",
        "if spam > 5:\n",
        "    print('bacon')  # Block 2\n",
        "else:\n",
        "    print('ham')  # Block 3\n",
        "print('spam')  # Not part of any conditional block\n",
        "print('spam')  # Not part of any conditional block\n",
        "\n",
        "Each block consists of the statements that are indented under the corresponding if or else condition. The last two print('spam') statements are not part of any conditional block because they are not indented under an if or else statement.\n",
        "\n",
        "\n",
        "8. Write code that prints Hello if 1 is stored in spam, prints Howdy if 2 is stored in spam, and prints Greetings! if anything else is stored in spam.\n"
      ],
      "metadata": {
        "id": "Ce6sLqjnyex5"
      }
    },
    {
      "cell_type": "code",
      "source": [
        "spam = 2\n",
        "if spam == 1:\n",
        "    print('Hello')\n",
        "elif spam == 2:\n",
        "    print('Howdy')\n",
        "else:\n",
        "    print('Greetings!')\n"
      ],
      "metadata": {
        "colab": {
          "base_uri": "https://localhost:8080/"
        },
        "id": "az905GEd1riY",
        "outputId": "dc8454e6-f53d-42f1-beba-398071d70335"
      },
      "execution_count": 1,
      "outputs": [
        {
          "output_type": "stream",
          "name": "stdout",
          "text": [
            "Howdy\n"
          ]
        }
      ]
    },
    {
      "cell_type": "markdown",
      "source": [
        "9.If your programme is stuck in an endless loop, what keys you’ll press?\n",
        "Ans:- Ctrl+C (or Command+C on macOS): This is a common keyboard shortcut to interrupt the execution of a running program in a terminal or command prompt. It sends an interrupt signal to the running process, causing it to terminate.\n",
        "\n",
        "\n",
        "10. How can you tell the difference between break and continue?\n",
        "Answer:- break and continue are two control flow statements used in loops (such as for and while) to alter the normal flow of execution.\n",
        "break:\n",
        "The break statement is used to exit a loop prematurely. When encountered, it terminates the entire loop, and control is transferred to the next statement after the loop.\n"
      ],
      "metadata": {
        "id": "wzrd9s3y2CZa"
      }
    },
    {
      "cell_type": "code",
      "source": [
        "for i in range(5):\n",
        "    if i == 3:\n",
        "        break\n",
        "    print(i)\n"
      ],
      "metadata": {
        "colab": {
          "base_uri": "https://localhost:8080/"
        },
        "id": "KAdGBIcS2dgB",
        "outputId": "4374dfcb-40b9-4cce-ea21-211550c46c13"
      },
      "execution_count": 2,
      "outputs": [
        {
          "output_type": "stream",
          "name": "stdout",
          "text": [
            "0\n",
            "1\n",
            "2\n"
          ]
        }
      ]
    },
    {
      "cell_type": "code",
      "source": [
        "#continue:\n",
        "#The continue statement is used to skip the rest of the code inside a loop for the current iteration and move on to the next iteration.\n",
        "for i in range(5):\n",
        "    if i == 2:\n",
        "        continue\n",
        "    print(i)\n"
      ],
      "metadata": {
        "colab": {
          "base_uri": "https://localhost:8080/"
        },
        "id": "35W7sG9h2lDg",
        "outputId": "937d0c63-a247-460a-926c-6bed75aca448"
      },
      "execution_count": 3,
      "outputs": [
        {
          "output_type": "stream",
          "name": "stdout",
          "text": [
            "0\n",
            "1\n",
            "3\n",
            "4\n"
          ]
        }
      ]
    },
    {
      "cell_type": "markdown",
      "source": [
        "11. In a for loop, what is the difference between range(10), range(0, 10), and range(0, 10, 1)?\n",
        "Answer:- In Python, the range() function is used to generate a sequence of numbers that can be used in a for loop. Let's examine the differences between range(10), range(0, 10), and range(0, 10, 1):\n",
        "range(10):\n",
        "This generates a sequence of numbers starting from 0 (default start value) up to, but not including, 10 (specified stop value).\n",
        "It's equivalent to range(0, 10, 1) with a default step of 1.\n"
      ],
      "metadata": {
        "id": "tf9e3gfz22hQ"
      }
    },
    {
      "cell_type": "code",
      "source": [
        "for i in range(10):\n",
        "    print(i)\n"
      ],
      "metadata": {
        "colab": {
          "base_uri": "https://localhost:8080/"
        },
        "id": "tAQpa0IT3H2B",
        "outputId": "55e71975-c9fa-4869-b69a-8916b03594c1"
      },
      "execution_count": 4,
      "outputs": [
        {
          "output_type": "stream",
          "name": "stdout",
          "text": [
            "0\n",
            "1\n",
            "2\n",
            "3\n",
            "4\n",
            "5\n",
            "6\n",
            "7\n",
            "8\n",
            "9\n"
          ]
        }
      ]
    },
    {
      "cell_type": "markdown",
      "source": [
        "range(0, 10):\n",
        "This generates a sequence of numbers starting from 0 (specified start value) up to, but not including, 10 (specified stop value).\n",
        "It's equivalent to range(10) and range(0, 10, 1) with a default step of 1."
      ],
      "metadata": {
        "id": "kO59qkR13JXs"
      }
    },
    {
      "cell_type": "code",
      "source": [
        "for i in range(0, 10):\n",
        "    print(i)\n"
      ],
      "metadata": {
        "colab": {
          "base_uri": "https://localhost:8080/"
        },
        "id": "kPGSR_XM3Q-4",
        "outputId": "5846a7a0-6d4e-4467-a233-8afa8fa82157"
      },
      "execution_count": 5,
      "outputs": [
        {
          "output_type": "stream",
          "name": "stdout",
          "text": [
            "0\n",
            "1\n",
            "2\n",
            "3\n",
            "4\n",
            "5\n",
            "6\n",
            "7\n",
            "8\n",
            "9\n"
          ]
        }
      ]
    },
    {
      "cell_type": "markdown",
      "source": [
        "range(0, 10, 1):\n",
        "This generates a sequence of numbers starting from 0 (specified start value) up to, but not including, 10 (specified stop value), with a step of 1 (specified step value).\n",
        "It's equivalent to range(0, 10) and range(10) with a default step of 1."
      ],
      "metadata": {
        "id": "zCv_aZr43Vte"
      }
    },
    {
      "cell_type": "code",
      "source": [
        "for i in range(0, 10, 1):\n",
        "    print(i)\n"
      ],
      "metadata": {
        "colab": {
          "base_uri": "https://localhost:8080/"
        },
        "id": "JETUg20U3UVY",
        "outputId": "2174af44-466a-4ac2-99c7-aed0dd7c608a"
      },
      "execution_count": 6,
      "outputs": [
        {
          "output_type": "stream",
          "name": "stdout",
          "text": [
            "0\n",
            "1\n",
            "2\n",
            "3\n",
            "4\n",
            "5\n",
            "6\n",
            "7\n",
            "8\n",
            "9\n"
          ]
        }
      ]
    },
    {
      "cell_type": "markdown",
      "source": [
        "12. Write a short program that prints the numbers 1 to 10 using a for loop. Then write an equivalent\n",
        "program that prints the numbers 1 to 10 using a while loop.\n",
        "Answer:-"
      ],
      "metadata": {
        "id": "y54wwDw13hrG"
      }
    },
    {
      "cell_type": "code",
      "source": [
        "# Using a for loop\n",
        "for i in range(1, 11):\n",
        "    print(i)\n"
      ],
      "metadata": {
        "colab": {
          "base_uri": "https://localhost:8080/"
        },
        "id": "zCAC82Qa3rQv",
        "outputId": "5e6d3623-82c1-49e2-b544-11b9e21d1523"
      },
      "execution_count": 7,
      "outputs": [
        {
          "output_type": "stream",
          "name": "stdout",
          "text": [
            "1\n",
            "2\n",
            "3\n",
            "4\n",
            "5\n",
            "6\n",
            "7\n",
            "8\n",
            "9\n",
            "10\n"
          ]
        }
      ]
    },
    {
      "cell_type": "code",
      "source": [
        "# Using a while loop\n",
        "number = 1\n",
        "while number <= 10:\n",
        "    print(number)\n",
        "    number += 1\n"
      ],
      "metadata": {
        "colab": {
          "base_uri": "https://localhost:8080/"
        },
        "id": "YGI8JUH43vCH",
        "outputId": "3cb558cb-4c0a-4fa7-9d33-35e386df8371"
      },
      "execution_count": 9,
      "outputs": [
        {
          "output_type": "stream",
          "name": "stdout",
          "text": [
            "1\n",
            "2\n",
            "3\n",
            "4\n",
            "5\n",
            "6\n",
            "7\n",
            "8\n",
            "9\n",
            "10\n"
          ]
        }
      ]
    },
    {
      "cell_type": "markdown",
      "source": [
        "13. If you had a function named bacon() inside a module named spam, how would you call it after\n",
        "importing spam?\n",
        "Answer:- 'spam' is the name of the module, and bacon() is the function within that module. The syntax to call a function from a module is module_name.function_name(). So, after importing the spam module, you can call the bacon() function using spam.bacon().\n"
      ],
      "metadata": {
        "id": "pM8SJVId38m3"
      }
    },
    {
      "cell_type": "code",
      "source": [],
      "metadata": {
        "id": "lVPGE5xi3xxP"
      },
      "execution_count": null,
      "outputs": []
    }
  ]
}