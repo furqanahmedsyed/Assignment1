{
  "nbformat": 4,
  "nbformat_minor": 0,
  "metadata": {
    "colab": {
      "provenance": []
    },
    "kernelspec": {
      "name": "python3",
      "display_name": "Python 3"
    },
    "language_info": {
      "name": "python"
    }
  },
  "cells": [
    {
      "cell_type": "code",
      "execution_count": null,
      "metadata": {
        "id": "qJ8Wyv76-nx7"
      },
      "outputs": [],
      "source": []
    },
    {
      "cell_type": "markdown",
      "source": [
        "Q.1. Create two int type variables, apply addition, subtraction, division and multiplications\n",
        "and store the results in variables. Then print the data in the following format by calling the\n",
        "variables:\n",
        "First variable is __ & second variable is __.\n",
        "Addition: __ + __ = __\n",
        "Subtraction: __ - __ = __\n",
        "Multiplication: __ * __ = __\n",
        "Division: __ / __ = __\n",
        "Answer:-"
      ],
      "metadata": {
        "id": "Zh_E2x_n-oeo"
      }
    },
    {
      "cell_type": "code",
      "source": [
        "first_variable = 10\n",
        "second_variable = 5\n",
        "\n",
        "# Perform arithmetic operations\n",
        "addition_result = first_variable + second_variable\n",
        "subtraction_result = first_variable - second_variable\n",
        "multiplication_result = first_variable * second_variable\n",
        "division_result = first_variable / second_variable\n",
        "\n",
        "print(f\"First variable is {first_variable} & second variable is {second_variable}.\")\n",
        "print(f\"Addition: {first_variable} + {second_variable} = {addition_result}\")\n",
        "print(f\"Subtraction: {first_variable} - {second_variable} = {subtraction_result}\")\n",
        "print(f\"Multiplication: {first_variable} * {second_variable} = {multiplication_result}\")\n",
        "print(f\"Division: {first_variable} / {second_variable} = {division_result}\")\n"
      ],
      "metadata": {
        "colab": {
          "base_uri": "https://localhost:8080/"
        },
        "id": "XfAegGFp-zRX",
        "outputId": "47771e53-c868-42e7-b969-bb0c331185a1"
      },
      "execution_count": 1,
      "outputs": [
        {
          "output_type": "stream",
          "name": "stdout",
          "text": [
            "First variable is 10 & second variable is 5.\n",
            "Addition: 10 + 5 = 15\n",
            "Subtraction: 10 - 5 = 5\n",
            "Multiplication: 10 * 5 = 50\n",
            "Division: 10 / 5 = 2.0\n"
          ]
        }
      ]
    },
    {
      "cell_type": "markdown",
      "source": [
        "Q.2. What is the difference between the following operators:\n",
        "(i) ‘/’ & ‘//’\n",
        "(ii) ‘**’ & ‘^’\n",
        "Answer:- (i) / vs //:\n",
        "/ (Division Operator): This operator is used for regular division in Python. When you use the / operator with integers or floating-point numbers, it performs floating-point division. For example, 5 / 2 would result in 2.5.\n",
        "// (Floor Division Operator): This operator, known as floor division, performs division and rounds down the result to the nearest integer. For example, 5 // 2 would result in 2, as it rounds down the division result.\n",
        "(ii) ** vs ^:\n",
        " (Exponentiation Operator): This operator is used for exponentiation in Python. It raises the left operand to the power of the right operand. For example, 2 ** 3 would result in 8.\n",
        "^ (Bitwise XOR Operator): This operator performs a bitwise XOR operation. It evaluates to 1 if the corresponding bits of the operands are different, otherwise, it evaluates to 0.\n",
        "\n",
        "\n",
        "Q.3. List the logical operators.\n",
        "Answer:- Logical operators in programming are used to combine conditional statements. They are typically used with boolean (True/False) values and result in a boolean outcome. In Python, the logical operators are:\n",
        "AND: The and operator returns True if both the operands are True, otherwise, it returns False.\n",
        "OR: The or operator returns True if at least one of the operands is True, otherwise, it returns False.\n",
        "NOT: The not operator returns True if the operand is False and returns False if the operand is True. It basically negates the value of the operand.\n",
        "\n",
        "\n",
        "Q.4. Explain right shift operator and left shift operator with examples.\n",
        "Answer:- Left Shift (<<):\n",
        "The left shift operator (<<) shifts the bits of a number to the left by a specified number of positions.\n",
        "For each shift left by n positions, the number is effectively multiplied by 2 raised to the power of n.\n",
        "Right Shift (>>):\n",
        "The right shift operator (>>) shifts the bits of a number to the right by a specified number of positions.\n",
        "For each shift right by n positions, the number is effectively divided by 2 raised to the power of n.\n",
        "\n",
        "\n",
        "Q.5. Create a list containing int type data of length 15. Then write a code to check if 10 is\n",
        "present in the list or not.\n",
        "Answer:-"
      ],
      "metadata": {
        "id": "vmyH4xPX-2rD"
      }
    },
    {
      "cell_type": "code",
      "source": [
        "# Create a list containing integer-type data of length 15\n",
        "my_list = [2, 4, 6, 8, 10, 12, 14, 16, 18, 20, 22, 24, 26, 28, 30]\n",
        "\n",
        "# Check if 10 is present in the list\n",
        "if 10 in my_list:\n",
        "    print(\"10 is present in the list.\")\n",
        "else:\n",
        "    print(\"10 is not present in the list.\")\n"
      ],
      "metadata": {
        "colab": {
          "base_uri": "https://localhost:8080/"
        },
        "id": "Ck6Il6td_nxK",
        "outputId": "91206d40-40ee-4ef7-90fd-8593fa10a12c"
      },
      "execution_count": 2,
      "outputs": [
        {
          "output_type": "stream",
          "name": "stdout",
          "text": [
            "10 is present in the list.\n"
          ]
        }
      ]
    },
    {
      "cell_type": "code",
      "source": [],
      "metadata": {
        "id": "xkfmtB8N-2Kp"
      },
      "execution_count": null,
      "outputs": []
    }
  ]
}