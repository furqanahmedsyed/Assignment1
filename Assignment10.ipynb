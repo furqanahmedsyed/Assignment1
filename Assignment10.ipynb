{
  "nbformat": 4,
  "nbformat_minor": 0,
  "metadata": {
    "colab": {
      "provenance": []
    },
    "kernelspec": {
      "name": "python3",
      "display_name": "Python 3"
    },
    "language_info": {
      "name": "python"
    }
  },
  "cells": [
    {
      "cell_type": "code",
      "execution_count": null,
      "metadata": {
        "id": "zTKXmfC8LOCG"
      },
      "outputs": [],
      "source": []
    },
    {
      "cell_type": "markdown",
      "source": [
        "1. What is the role of try and exception block?\n",
        "Answer:- Try Block: The code that might raise an exception is placed inside the try block. This block is where you anticipate potential errors.\n",
        "\n",
        "Except Block: If an exception occurs within the try block, the interpreter immediately jumps to the except block. The except block contains the code that handles the exception gracefully. It allows you to define what actions should be taken in response to specific types of exceptions.\n",
        "\n",
        "\n",
        "2. What is the syntax for a basic try-except block?\n",
        "Answer:- try:\n",
        "    # Code that may raise an exception\n",
        "    # This is the \"try\" block\n",
        "    # If an exception occurs here, it will be caught by the corresponding except block\n",
        "    pass  # Placeholder for actual code\n",
        "\n",
        "except ExceptionType:\n",
        "    # Code to handle the exception\n",
        "    # This is the \"except\" block\n",
        "    pass  # Placeholder for actual code\n",
        "\n",
        "\n",
        "3. What happens if an exception occurs inside a try block and there is no matching\n",
        "except block?\n",
        "Answer:- If an exception occurs inside a try block and there is no matching except block to handle that specific type of exception, the program will terminate abruptly, and Python will display a traceback error message.\n",
        "\n",
        "The traceback error message typically includes information about the type of exception that occurred, the line number where the exception occurred, and the sequence of function calls leading up to the exception.\n",
        "\n",
        "\n",
        "4. What is the difference between using a bare except block and specifying a specific\n",
        "exception type?\n",
        "Answer:- Specific Exception Type:\n",
        "When you specify a specific exception type in an except block, you are indicating that you want to catch only that particular type of exception.\n",
        "This allows you to handle different types of exceptions in different ways, providing more precise error handling.\n",
        "Bare Except Block:\n",
        "A bare except block (one without specifying any exception type) catches all exceptions indiscriminately.\n",
        "It will catch any type of exception, including built-in exceptions and user-defined exceptions.\n",
        "\n",
        "\n",
        "5. Can you have nested try-except blocks in Python? If yes, then give an example.\n",
        "Answer:- Yes, Python allows nesting of try-except blocks. You can have one try block inside another, and each try block can have its own corresponding except block. This is useful for handling exceptions at different levels of granularity within your code."
      ],
      "metadata": {
        "id": "235RkKGdLOf4"
      }
    },
    {
      "cell_type": "code",
      "source": [
        "try:\n",
        "    # Outer try block\n",
        "    num1 = int(input(\"Enter the first number: \"))\n",
        "    num2 = int(input(\"Enter the second number: \"))\n",
        "\n",
        "    try:\n",
        "        # Inner try block\n",
        "        result = num1 / num2\n",
        "        print(\"Result:\", result)\n",
        "\n",
        "    except ZeroDivisionError:\n",
        "        print(\"Error: Cannot divide by zero in inner try block.\")\n",
        "\n",
        "except ValueError:\n",
        "    print(\"Error: Please enter valid integers in outer try block.\")\n"
      ],
      "metadata": {
        "colab": {
          "base_uri": "https://localhost:8080/"
        },
        "id": "BiE0Yke4L3XH",
        "outputId": "cac2272c-60b6-47ad-e662-e84bbad61573"
      },
      "execution_count": 1,
      "outputs": [
        {
          "output_type": "stream",
          "name": "stdout",
          "text": [
            "Enter the first number: 1\n",
            "Enter the second number: 2\n",
            "Result: 0.5\n"
          ]
        }
      ]
    },
    {
      "cell_type": "markdown",
      "source": [
        "7. Write the reason due to which following errors are raised:\n",
        "a. EOFError\n",
        "b. FloatingPointError\n",
        "c. IndexError\n",
        "d. MemoryError\n",
        "e. OverflowError\n",
        "f. TabError\n",
        "g. ValueError\n",
        "Answer:-  EOFError: This error occurs when the built-in function input() reaches the end of the file (EOF) without reading any data. It typically happens when the user presses Ctrl+D (on Unix/Linux systems) or Ctrl+Z (on Windows) to signal the end of input.\n",
        "\n",
        "b. FloatingPointError: This error occurs when a floating-point operation fails to produce a valid result. It can happen during arithmetic operations involving floating-point numbers, such as division by zero or an operation resulting in a value too large for the system to represent as a float.\n",
        "\n",
        "c. IndexError: This error occurs when you try to access an index in a sequence (e.g., list, tuple, string) that is outside the range of valid indices. It typically happens when you try to access an element at an index that doesn't exist.\n",
        "\n",
        "d. MemoryError: This error occurs when an operation fails due to insufficient memory available on the system. It happens when Python cannot allocate more memory for an object or operation.\n",
        "\n",
        "e. OverflowError: This error occurs when a numeric calculation exceeds the maximum representable value for a numeric type. For example, in Python, it can occur when performing arithmetic operations that result in a value greater than what can be represented by the given data type.\n",
        "\n",
        "f. TabError: This error occurs when indentation in code is inconsistent, particularly when mixing tabs and spaces. Python expects consistent indentation style throughout the code, and a mix of tabs and spaces can lead to a TabError.\n",
        "\n",
        "g. ValueError: This error occurs when a function receives an argument of the correct type but with an inappropriate value. For example, trying to convert a string to an integer using int() where the string does not represent a valid integer would raise a ValueError.\n",
        "\n",
        "\n",
        "\n",
        "8. Write code for the following given scenario and add try-exception block to it.\n",
        "a. Program to divide two numbers\n",
        "b. Program to convert a string to an integer\n",
        "c. Program to access an element in a list\n",
        "d. Program to handle a specific exception\n",
        "e. Program to handle any exception\n",
        "Answer:- a. Program to divide two numbers:"
      ],
      "metadata": {
        "id": "pb_swrs9L467"
      }
    },
    {
      "cell_type": "code",
      "source": [
        "try:\n",
        "    num1 = int(input(\"Enter the first number: \"))\n",
        "    num2 = int(input(\"Enter the second number: \"))\n",
        "    result = num1 / num2\n",
        "    print(\"Result:\", result)\n",
        "\n",
        "except ZeroDivisionError:\n",
        "    print(\"Error: Cannot divide by zero.\")\n",
        "\n",
        "except ValueError:\n",
        "    print(\"Error: Please enter valid integers.\")\n"
      ],
      "metadata": {
        "colab": {
          "base_uri": "https://localhost:8080/"
        },
        "id": "Nt6YWY1vMck2",
        "outputId": "228bd2a6-d057-4fbf-fd90-69b4c8ce0577"
      },
      "execution_count": 2,
      "outputs": [
        {
          "output_type": "stream",
          "name": "stdout",
          "text": [
            "Enter the first number: 1\n",
            "Enter the second number: 2\n",
            "Result: 0.5\n"
          ]
        }
      ]
    },
    {
      "cell_type": "markdown",
      "source": [
        " Program to convert a string to an integer:"
      ],
      "metadata": {
        "id": "6Pk9q_jTMgE8"
      }
    },
    {
      "cell_type": "code",
      "source": [
        "try:\n",
        "    num_str = input(\"Enter a number: \")\n",
        "    num = int(num_str)\n",
        "    print(\"Integer value:\", num)\n",
        "\n",
        "except ValueError:\n",
        "    print(\"Error: Please enter a valid integer.\")\n"
      ],
      "metadata": {
        "colab": {
          "base_uri": "https://localhost:8080/"
        },
        "id": "NkVXu4kCMnHo",
        "outputId": "a2105d90-6ea3-4816-a2a3-72af4c7ad384"
      },
      "execution_count": 3,
      "outputs": [
        {
          "output_type": "stream",
          "name": "stdout",
          "text": [
            "Enter a number: 1\n",
            "Integer value: 1\n"
          ]
        }
      ]
    },
    {
      "cell_type": "markdown",
      "source": [
        ". Program to access an element in a list:"
      ],
      "metadata": {
        "id": "lQeES9WzMpEx"
      }
    },
    {
      "cell_type": "code",
      "source": [
        "try:\n",
        "    my_list = [1, 2, 3, 4, 5]\n",
        "    index = int(input(\"Enter the index of the element to access: \"))\n",
        "    print(\"Element at index\", index, \"is\", my_list[index])\n",
        "\n",
        "except IndexError:\n",
        "    print(\"Error: Index out of range.\")\n"
      ],
      "metadata": {
        "colab": {
          "base_uri": "https://localhost:8080/"
        },
        "id": "-YGpAQ13MuHL",
        "outputId": "112ccfdb-fff0-4068-a187-e6b583cd5a4d"
      },
      "execution_count": 4,
      "outputs": [
        {
          "output_type": "stream",
          "name": "stdout",
          "text": [
            "Enter the index of the element to access: 1\n",
            "Element at index 1 is 2\n"
          ]
        }
      ]
    },
    {
      "cell_type": "markdown",
      "source": [
        ". Program to handle a specific exception:"
      ],
      "metadata": {
        "id": "1JEUIRC5Mvrj"
      }
    },
    {
      "cell_type": "code",
      "source": [
        "try:\n",
        "    # Some code that may raise a specific exception\n",
        "    # Example: Opening a file that may not exist\n",
        "    file_path = input(\"Enter the file path: \")\n",
        "    with open(file_path, 'r') as file:\n",
        "        content = file.read()\n",
        "    print(\"Content:\", content)\n",
        "\n",
        "except FileNotFoundError:\n",
        "    print(\"Error: File not found.\")\n"
      ],
      "metadata": {
        "colab": {
          "base_uri": "https://localhost:8080/"
        },
        "id": "abm-vqSUM3Cd",
        "outputId": "7fcb0fce-c1fa-4d28-ec3f-160edd5eaffc"
      },
      "execution_count": 5,
      "outputs": [
        {
          "output_type": "stream",
          "name": "stdout",
          "text": [
            "Enter the file path: 1\n",
            "Error: File not found.\n"
          ]
        }
      ]
    },
    {
      "cell_type": "markdown",
      "source": [
        ". Program to handle any exception:"
      ],
      "metadata": {
        "id": "f5zoguaUM6Ku"
      }
    },
    {
      "cell_type": "code",
      "source": [
        "try:\n",
        "    # Some code that may raise any type of exception\n",
        "    # Example: Performing a division operation\n",
        "    dividend = int(input(\"Enter the dividend: \"))\n",
        "    divisor = int(input(\"Enter the divisor: \"))\n",
        "    result = dividend / divisor\n",
        "    print(\"Result:\", result)\n",
        "\n",
        "except Exception as e:\n",
        "    print(\"An error occurred:\", str(e))\n"
      ],
      "metadata": {
        "colab": {
          "base_uri": "https://localhost:8080/"
        },
        "id": "BY6PGY8zNJGN",
        "outputId": "a033ad31-9648-4683-d4f9-a63143acb631"
      },
      "execution_count": 6,
      "outputs": [
        {
          "output_type": "stream",
          "name": "stdout",
          "text": [
            "Enter the dividend: 1\n",
            "Enter the divisor: 2\n",
            "Result: 0.5\n"
          ]
        }
      ]
    }
  ]
}