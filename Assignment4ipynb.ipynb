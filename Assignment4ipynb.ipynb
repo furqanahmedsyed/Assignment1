{
  "nbformat": 4,
  "nbformat_minor": 0,
  "metadata": {
    "colab": {
      "provenance": []
    },
    "kernelspec": {
      "name": "python3",
      "display_name": "Python 3"
    },
    "language_info": {
      "name": "python"
    }
  },
  "cells": [
    {
      "cell_type": "markdown",
      "source": [
        "1. What exactly is []?\n",
        "Answer:- The characters \"[]\" typically represent an empty list in many programming languages, including Python. In programming, square brackets are often used to denote lists\n",
        "\n",
        "\n",
        "2. In a list of values stored in a variable called spam, how would you assign the value 'hello' as the\n",
        "third value? (Assume [2, 4, 6, 8, 10] are in spam.)\n",
        "Ans:- In Python, you can assign the value 'hello' as the third element in a list by using the index notation. Keep in mind that Python uses zero-based indexing, so the third element has an index of 2."
      ],
      "metadata": {
        "id": "qLNe65dlXTNZ"
      }
    },
    {
      "cell_type": "code",
      "source": [
        "spam = [2, 4, 6, 8, 10]\n",
        "\n",
        "# Assign 'hello' to the third element (index 2)\n",
        "spam[2] = 'hello'\n",
        "\n",
        "print(spam)\n"
      ],
      "metadata": {
        "colab": {
          "base_uri": "https://localhost:8080/"
        },
        "id": "Zq0Z6wvQYAm1",
        "outputId": "453c6a0e-c492-4a71-97fb-77e9c1460d71"
      },
      "execution_count": 1,
      "outputs": [
        {
          "output_type": "stream",
          "name": "stdout",
          "text": [
            "[2, 4, 'hello', 8, 10]\n"
          ]
        }
      ]
    },
    {
      "cell_type": "markdown",
      "source": [
        "3.the spam includes the list ['a','b','c','d'] What is the value of spam[int(int('3' * 2) / 11)]?\n",
        "Answer:- Let's break down the expression spam[int(int('3' * 2) / 11)] step by step:'3' * 2 evaluates to the string '33'.\n",
        "int('33') converts the string to an integer, resulting in the value 33.\n",
        "33 / 11 performs division, resulting in the value 3.0.\n",
        "int(3.0) converts the float back to an integer, resulting in the value 3.\n",
        "So, the final expression is equivalent to spam[3]. In Python, indexing is zero-based, so this refers to the fourth element of the list spam, which is 'd'. Therefore, the value of spam[int(int('3' * 2) / 11)] is 'd'.\n",
        "\n",
        "\n",
        "4.the spam includes the list ['a','b','c','d']   What is the value of spam[-1]?\n",
        "Ans:- In Python, negative indexing is used to access elements from the end of a list. Index -1 refers to the last element of the list. So, if spam is ['a', 'b', 'c', 'd'], then spam[-1] will give you the value of the last element, which is 'd'. Therefore, the value of spam[-1] is 'd'.\n",
        "\n",
        "\n",
        "\n",
        "5.the spam includes the list ['a','b','c','d']  What is the value of spam[:2]?\n",
        "Answer:- In Python, the slicing notation spam[:2] means to select elements from the beginning of the list (spam) up to, but not including, the element at index 2. The syntax for slicing is start:stop.\n",
        "If spam is ['a', 'b', 'c', 'd'], then spam[:2] will include elements at indices 0 and 1. Therefore, the result of spam[:2] will be ['a', 'b']. It selects the elements from the beginning up to, but not including, the element at index 2.\n",
        "\n",
        "\n",
        "\n",
        "6.bacon has the list [3.14,'cat',11,'cat',True] What is the value of bacon.index('cat')?\n",
        "Ans:- The index() method in Python is used to find the first occurrence of a value in a list and return its index. If the value is not present, it raises a ValueError.\n",
        "If bacon is the list [3.14, 'cat', 11, 'cat', True], then bacon.index('cat') will return the index of the first occurrence of the string 'cat'. In this case, it will be 1 because the first occurrence of 'cat' is at index 1.\n",
        "So, the value of bacon.index('cat') is 1.\n",
        "\n",
        "\n",
        "7.bacon has the list [3.14,'cat',11,'cat',True]  How does bacon.append(99) change the look of the list value in bacon?\n",
        "Ans:- The append() method in Python is used to add a single element to the end of a list. If bacon is the list [3.14, 'cat', 11, 'cat', True], and you use the append() method to add 99.So, after the append(99) operation, the list bacon will have the additional element 99 at the end.\n",
        "\n",
        "\n",
        "\n",
        "8.bacon has the list [3.14,'cat',11,'cat',True]  How does bacon.remove('cat') change the look of the list in bacon?\n",
        "Ans:- he remove() method in Python is used to remove the first occurrence of a specified value from a list. If bacon is the list [3.14, 'cat', 11, 'cat', True], and you use the remove('cat') method on it, it will remove the first occurrence of the string 'cat'.\n",
        "The first occurrence of 'cat' has been removed, resulting in the updated list. Note that only the first occurrence of 'cat' is removed, leaving the second occurrence in place.\n",
        "\n",
        "\n",
        "9. What are the list concatenation and list replication operators?\n",
        "Ans:-\n",
        "In Python, the list concatenation operator is +, and the list replication operator is *.\n",
        "List Concatenation (+):\n",
        "The + operator is used to concatenate two lists, creating a new list that contains all the elements from both lists in the order they appear.\n",
        "List Replication (*):\n",
        "The * operator is used to replicate a list by repeating its elements a specified number of times.\n",
        "The first occurrence of 'cat' has been removed, resulting in the updated list. Note that only the first occurrence of 'cat' is removed, leaving the second occurrence in place.\n",
        "\n",
        "\n",
        "10. What is difference between the list methods append() and insert()?\n",
        "Ans:- The append() and insert() methods in Python are both used to add elements to a list, but they differ in how they add elements and where they place them within the list:\n",
        "append() Method:\n",
        "The append() method is used to add a single element to the end of a list.\n",
        "Syntax: list.append(element)\n",
        "insert() Method:\n",
        "The insert() method is used to insert a single element at a specified index in the list.\n",
        "Syntax: list.insert(index, element)\n",
        "The insert() method takes two arguments: the index where the element should be inserted and the element itself. It shifts the existing elements to the right to make room for the new element.\n",
        "\n",
        "\n",
        "11. What are the two methods for removing items from a list?\n",
        "Ans:- remove() Method:\n",
        "The remove() method is used to remove the first occurrence of a specified value from the list.\n",
        "Syntax: list.remove(value)\n",
        "pop() Method:\n",
        "The pop() method is used to remove an element from a specific index in the list and returns the removed element.\n",
        "Syntax: removed_element = list.pop(index)\n",
        "\n",
        "\n",
        "12. Describe how list values and string values are identical.\n",
        "Ans:- List values and string values in Python share certain similarities, but they also have distinct characteristics. Here are some points highlighting the similarities between lists and strings:\n",
        "Sequential Data:\n",
        "Both lists and strings are sequential data types, meaning they are ordered collections of elements.\n",
        "Indexing:\n",
        "Elements in both lists and strings can be accessed using indexing. Indexing starts at 0 for the first element.\n",
        "Slicing:\n",
        "Both lists and strings support slicing, allowing you to extract a portion of the data.\n",
        "Iteration:\n",
        "Both can be iterated over using loops.\n",
        "\n",
        "\n",
        "13. Whats the difference between tuples and lists?\n",
        "Ans:- Mutability:\n",
        "\n",
        "The main difference between tuples and lists is mutability. Lists are mutable, meaning you can modify their elements (add, remove, or change elements) after the list is created. Tuples, on the other hand, are immutable, and once a tuple is created, you cannot change its elements.\n",
        "Syntax:\n",
        "Lists are created using square brackets [], while tuples use parentheses ().\n",
        "Use Cases:\n",
        "Lists are generally used when the order and elements can change during the program's execution. They are suitable for scenarios where you need a dynamic, mutable sequence of elements.\n",
        "Performance:\n",
        "Tuples are generally more memory-efficient and have slightly faster access times than lists. If you have a collection of constant values, using a tuple might be more appropriate.\n",
        "\n",
        "\n",
        "14. How do you type a tuple value that only contains the integer 42?\n",
        "Ans:-To create a tuple containing the integer 42, you would use parentheses () and include the integer within them.\n",
        "\n",
        "\n",
        "15. How do you get a list value&#39;s tuple form? How do you get a tuple value's list form?\n",
        "Ans:- To convert a list to a tuple in Python, you can use the tuple() constructor. Conversely, to convert a tuple to a list, you can use the list() constructor."
      ],
      "metadata": {
        "id": "qy0wB57EYDBT"
      }
    },
    {
      "cell_type": "code",
      "source": [
        "my_list = [1, 2, 3, 4]\n",
        "my_tuple = tuple(my_list)\n",
        "print(my_tuple)\n"
      ],
      "metadata": {
        "colab": {
          "base_uri": "https://localhost:8080/"
        },
        "id": "ShqqQUyMcCyS",
        "outputId": "622f727f-71a4-46a9-bfbe-13d519b48173"
      },
      "execution_count": 2,
      "outputs": [
        {
          "output_type": "stream",
          "name": "stdout",
          "text": [
            "(1, 2, 3, 4)\n"
          ]
        }
      ]
    },
    {
      "cell_type": "code",
      "source": [
        "#convert a tuple to list\n",
        "my_tuple = (1, 2, 3, 4)\n",
        "my_list = list(my_tuple)\n",
        "print(my_list)\n"
      ],
      "metadata": {
        "colab": {
          "base_uri": "https://localhost:8080/"
        },
        "id": "zC3IOlFjcFiJ",
        "outputId": "8be766c0-3257-499b-dd55-4d722b4bc494"
      },
      "execution_count": 3,
      "outputs": [
        {
          "output_type": "stream",
          "name": "stdout",
          "text": [
            "[1, 2, 3, 4]\n"
          ]
        }
      ]
    },
    {
      "cell_type": "markdown",
      "source": [
        "16. Variables that 'contain' list values are not necessarily lists themselves. Instead, what do they\n",
        "contain?\n",
        "Ans:- Variables that \"contain\" list values in Python don't actually store the list directly; rather, they store a reference to the list. When you assign a list to a variable, the variable holds a reference to the memory location where the list is stored. This distinction is important because it affects how variables behave, especially when it comes to mutability.\n",
        "\n",
        "\n",
        "17. How do you distinguish between copy.copy() and copy.deepcopy()?\n",
        "Ans:- In Python, the copy module provides two methods for creating copies of objects: copy() and deepcopy(). Here's how they differ:\n",
        "copy.copy() (Shallow Copy):\n",
        "The copy() function creates a shallow copy of an object. Shallow copy means that the top-level structure of the object is duplicated, but the nested objects within it are still references to the same objects as in the original.\n"
      ],
      "metadata": {
        "id": "1AJFEUgccKiY"
      }
    },
    {
      "cell_type": "code",
      "source": [
        "import copy\n",
        "\n",
        "original_list = [1, [2, 3], 4]\n",
        "shallow_copy = copy.copy(original_list)\n",
        "\n",
        "# Modify the original list\n",
        "original_list[1][0] = 'X'\n",
        "\n",
        "print(original_list)  # Output: [1, ['X', 3], 4]\n",
        "print(shallow_copy)   # Output: [1, ['X', 3], 4]\n"
      ],
      "metadata": {
        "colab": {
          "base_uri": "https://localhost:8080/"
        },
        "id": "mfk-f14lcwK3",
        "outputId": "ebfd2830-ec7e-4849-97c2-3d63cbf89909"
      },
      "execution_count": 4,
      "outputs": [
        {
          "output_type": "stream",
          "name": "stdout",
          "text": [
            "[1, ['X', 3], 4]\n",
            "[1, ['X', 3], 4]\n"
          ]
        }
      ]
    },
    {
      "cell_type": "markdown",
      "source": [
        "copy.deepcopy() (Deep Copy):\n",
        "The deepcopy() function, on the other hand, creates a deep copy of an object. This means that both the top-level structure and all nested objects are duplicated, resulting in a completely independent copy."
      ],
      "metadata": {
        "id": "jV8d57Cxcx5Y"
      }
    },
    {
      "cell_type": "code",
      "source": [
        "import copy\n",
        "\n",
        "original_list = [1, [2, 3], 4]\n",
        "deep_copy = copy.deepcopy(original_list)\n",
        "\n",
        "# Modify the original list\n",
        "original_list[1][0] = 'X'\n",
        "\n",
        "print(original_list)  # Output: [1, ['X', 3], 4]\n",
        "print(deep_copy)      # Output: [1, [2, 3], 4]\n"
      ],
      "metadata": {
        "id": "GcQ_i4cic19N",
        "outputId": "b75de7e5-53d6-4e62-ed70-a73296e22c58",
        "colab": {
          "base_uri": "https://localhost:8080/"
        }
      },
      "execution_count": 5,
      "outputs": [
        {
          "output_type": "stream",
          "name": "stdout",
          "text": [
            "[1, ['X', 3], 4]\n",
            "[1, [2, 3], 4]\n"
          ]
        }
      ]
    }
  ]
}