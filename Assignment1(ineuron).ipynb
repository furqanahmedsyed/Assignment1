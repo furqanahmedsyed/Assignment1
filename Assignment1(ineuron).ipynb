{
  "nbformat": 4,
  "nbformat_minor": 0,
  "metadata": {
    "colab": {
      "provenance": []
    },
    "kernelspec": {
      "name": "python3",
      "display_name": "Python 3"
    },
    "language_info": {
      "name": "python"
    }
  },
  "cells": [
    {
      "cell_type": "code",
      "execution_count": null,
      "metadata": {
        "id": "4O0uQjgcpfS8"
      },
      "outputs": [],
      "source": []
    },
    {
      "cell_type": "markdown",
      "source": [
        "1. In the below elements which of them are values or an expression? eg:- values can be\n",
        "integer or string and expressions will be mathematical operators.\n",
        "*\n",
        "&#39;hello&#39;\n",
        "-87.8\n",
        "-\n",
        "/\n",
        "+\n",
        "6\n",
        "Ans:- Values: 'hello', -87.8,6\n",
        "Expressions: *, -, /, +\n",
        "\n",
        "\n",
        "2. What is the difference between string and variable?\n",
        "Ans:- String:\n",
        "A string is a data type used to represent text or a sequence of characters.\n",
        "It is a series of characters enclosed within single (' '), double (\" \"), or triple (''' ''' or \"\"\" \"\"\") quotes.\n",
        "Example: \"Hello, World!\", '12345', or '''Multiline String'''.\n",
        "Variable:\n",
        "A variable is a storage location in a computer program that has a symbolic name (an identifier) and is associated with a value or data.\n",
        "Variables are used to store and manipulate data in a program. They can hold different types of values, including strings.\n",
        "\n",
        "\n",
        "3. Describe three different data types.\n",
        "Ans:- Here are descriptions of three common data types:\n",
        "Integer (int):\n",
        "An integer is a whole number without a fractional component.\n",
        "Examples: -5, 0, 42\n",
        "Floating-Point (float):\n",
        "A floating-point number is a number that has both an integer and a fractional part, typically expressed with a decimal point.\n",
        "Examples: -3.14, 0.0, 2.718\n",
        "String (str):\n",
        "A string is a sequence of characters. It can include letters, numbers, symbols, or a combination of these.\n",
        "Examples: \"Hello, World!\", '12345', '''Multiline String'''\n",
        "\n",
        "\n",
        "4. What is an expression made up of? What do all expressions do?\n",
        "The basic components of an expression include:\n",
        "Operands:\n",
        "Operands are the values or entities that participate in an operation.\n",
        "Examples: 5, x, \"Hello\"\n",
        "Operators:\n",
        "Operators define the operation to be performed on the operands.\n",
        "Examples: + (addition), - (subtraction), * (multiplication), / (division), == (equality), > (greater than), && (logical AND), etc.\n",
        "Parentheses:\n",
        "Parentheses are used to control the order of operations in an expression. They indicate which parts of the expression should be evaluated first.\n",
        "Example: (5 + 3) * 2\n",
        "Expressions can be simple or complex, and they can involve various combinations of operators and operands. The purpose of expressions is to compute a value based on the specified operations.\n",
        "\n",
        "\n",
        "5. This assignment statements, like spam = 10. What is the difference between an\n",
        "expression and a statement?\n",
        "Ans:- Expression:\n",
        "An expression is a combination of values, variables, operators, and function calls that can be evaluated to produce a result.\n",
        "It always has a value and can be used as part of a larger expression or as the right side of an assignment statement.\n",
        "Statement:\n",
        "A statement is a complete line of code that performs an action. It may include expressions but doesn't necessarily have to.\n",
        "Statements can include assignments, control flow structures (like if statements and loops), function calls, and more.\n",
        "\n",
        "\n",
        "6. After running the following code, what does the variable bacon contain?\n",
        "bacon = 22\n",
        "bacon + 1\n"
      ],
      "metadata": {
        "id": "KnWmvaiWpsKJ"
      }
    },
    {
      "cell_type": "code",
      "source": [
        "bacon=22\n",
        "bacon+1\n",
        "bacon"
      ],
      "metadata": {
        "colab": {
          "base_uri": "https://localhost:8080/"
        },
        "id": "gmWeHpBPr3Nn",
        "outputId": "9839e546-4496-44e4-a74f-c734dcc7e47c"
      },
      "execution_count": 1,
      "outputs": [
        {
          "output_type": "execute_result",
          "data": {
            "text/plain": [
              "22"
            ]
          },
          "metadata": {},
          "execution_count": 1
        }
      ]
    },
    {
      "cell_type": "markdown",
      "source": [
        "Ans:- bacon will contain 22 as we can seee from above code.\n",
        "\n",
        "\n",
        "7. What should the values of the following two terms be?\n",
        "'spam' + 'spamspam'\n",
        "'spam' * 3\n",
        "Ans:- 'spam' + 'spamspam': This involves the concatenation of two strings. The result is a new string formed by combining the characters of the two original strings.\n",
        "Result: 'spamspamspam'\n",
        "'spam' * 3: This involves the multiplication of a string by an integer. The result is a new string formed by repeating the original string three times.\n",
        "Result: 'spamspamspam'\n",
        "\n",
        "\n",
        "8. Why is eggs a valid variable name while 100 is invalid?\n",
        "Ans:- In many programming languages, including Python, variable names need to adhere to certain rules and conventions. Here are some general rules for valid variable names:\n",
        "Must start with a letter or underscore (_):\n",
        "Valid: eggs, _variable\n",
        "Invalid: 100 (starts with a number)\n",
        "Can contain letters, numbers, and underscores:\n",
        "\n",
        "Valid: eggs_and_bacon, count_123\n",
        "Invalid: variable-name (contains a hyphen)\n",
        "Cannot be a reserved keyword:\n",
        "\n",
        "Valid: total, amount\n",
        "Invalid: if, while (keywords used in the programming language)\n",
        "No spaces or special characters (except underscore):\n",
        "\n",
        "Valid: my_variable, total_count\n",
        "Invalid: variable name, amount$\n",
        "Given these rules, eggs is a valid variable name because it starts with a letter, and it contains only letters. On the other hand, 100 is invalid as a variable name because it starts with a number, violating the rule that variable names must start with a letter or underscore.\n",
        "\n",
        "\n",
        "9. What three functions can be used to get the integer, floating-point number, or string\n",
        "version of a value?\n",
        "Ans:- int() function:\n",
        "Converts a value to an integer.\n",
        "\n",
        "float() function:\n",
        "Converts a value to a floating-point number.\n",
        "\n",
        "str() function:\n",
        "Converts a value to a string.\n",
        "\n",
        "\n",
        "10. Why does this expression cause an error? How can you fix it?\n",
        "'I have eaten' + 99 + 'burritos'\n",
        "Ans:- The expression 'I have eaten' + 99 + 'burritos' causes an error because you are trying to concatenate a string ('I have eaten') with an integer (99) without explicitly converting the integer to a string first. In Python, you cannot directly concatenate different data types without proper conversion.\n",
        "To fix the error, you need to convert the integer 99 to a string before concatenating it with the other strings. You can do this using the str() function.\n",
        "This will convert the integer 99 to the string '99', and then you can concatenate it with the other strings to form a valid string expression. The str(99) part ensures that you're treating the number as a string during concatenation."
      ],
      "metadata": {
        "id": "2zXdhVdssMz0"
      }
    }
  ]
}